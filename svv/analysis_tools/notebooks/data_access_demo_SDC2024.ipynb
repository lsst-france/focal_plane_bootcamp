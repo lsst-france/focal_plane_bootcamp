{
 "cells": [
  {
   "cell_type": "markdown",
   "id": "826655f1-f093-4491-9631-db3a3d872cbc",
   "metadata": {
    "execution": {
     "iopub.execute_input": "2023-04-19T04:32:13.353992Z",
     "iopub.status.busy": "2023-04-19T04:32:13.353762Z",
     "iopub.status.idle": "2023-04-19T04:32:13.356535Z",
     "shell.execute_reply": "2023-04-19T04:32:13.356105Z",
     "shell.execute_reply.started": "2023-04-19T04:32:13.353976Z"
    }
   },
   "source": [
    "# Pre-bootcamp exercises: accessing data products via butler\n",
    "\n",
    "\n",
    "**Application to Auxtel data**\n",
    "\n",
    "- Last Update : 2024/03/24\n",
    "- w_2024_10\n",
    "\n",
    "**Description:** Demonstrate how to generate science performance diagnostic plots and metrics with the [analysis_tools](https://github.com/lsst/analysis_tools) package using a small test dataset from HSC, [rc2_subset](https://github.com/lsst/rc2_subset).\n",
    "\n",
    "**Contact authors:** Keith Bechtol, Nate Lust\n",
    "\n",
    "**adapted for focal-plane-bootcamp by Sylvie Dagoret\n",
    "\n",
    "**Last verified to run:** 2023-05-18\n",
    "\n",
    "**LSST Science Piplines version:** w_2024_10\n",
    "\n",
    "**Container Size:** Medium (or larger)\n",
    "\n",
    "**Location:** This notebook points to files on the S3DF cluster at the USDF. Update paths accordingly if you are running elsewhere.\n",
    "\n",
    "**Skills:** \n",
    "- Load source and object tables using the Butler.\n",
    "- Generate a science performance diagnostic plot and corresponding metric values interactively in a notebook and as part of a pipeline (simple pipeline executor). \n",
    "- Adjust the configuration used to produce these diagnostics. \n",
    "- Retrieve persisted plots and metrics with the Bulter. \n",
    "- Reconstitute input data products that were used to create plots and metrics for further investigation.\n"
   ]
  },
  {
   "cell_type": "markdown",
   "id": "bcfadd68-5fcc-4e45-8cc0-ac5553139592",
   "metadata": {
    "execution": {
     "iopub.execute_input": "2023-04-19T04:41:39.575692Z",
     "iopub.status.busy": "2023-04-19T04:41:39.574983Z",
     "iopub.status.idle": "2023-04-19T04:41:39.577852Z",
     "shell.execute_reply": "2023-04-19T04:41:39.577435Z",
     "shell.execute_reply.started": "2023-04-19T04:41:39.575672Z"
    },
    "tags": []
   },
   "source": [
    "## Preliminaries"
   ]
  },
  {
   "cell_type": "code",
   "execution_count": 1,
   "id": "18af6ebd-d52c-42b1-8ddf-0d8c5279ec8a",
   "metadata": {
    "execution": {
     "iopub.execute_input": "2024-03-24T14:55:00.205291Z",
     "iopub.status.busy": "2024-03-24T14:55:00.205166Z",
     "iopub.status.idle": "2024-03-24T14:55:00.494835Z",
     "shell.execute_reply": "2024-03-24T14:55:00.494393Z",
     "shell.execute_reply.started": "2024-03-24T14:55:00.205277Z"
    },
    "tags": []
   },
   "outputs": [],
   "source": [
    "# Basic imports\n",
    "import numpy as np\n",
    "\n",
    "import matplotlib as mpl\n",
    "import matplotlib.pyplot as plt\n",
    "\n",
    "from pprint import pprint"
   ]
  },
  {
   "cell_type": "markdown",
   "id": "6045ec69-4cfc-423e-9c58-aca6b96de7f4",
   "metadata": {
    "execution": {
     "iopub.execute_input": "2023-05-04T01:26:13.350555Z",
     "iopub.status.busy": "2023-05-04T01:26:13.350110Z",
     "iopub.status.idle": "2023-05-04T01:26:13.353867Z",
     "shell.execute_reply": "2023-05-04T01:26:13.353352Z",
     "shell.execute_reply.started": "2023-05-04T01:26:13.350537Z"
    },
    "tags": []
   },
   "source": [
    "### Getting set up at USDF\n",
    "\n",
    "The USDF is hosted on the S3DF cluster at SLAC. This notebook has been verified to run on the S3DF cluster.\n",
    "\n",
    "See USDF documentation at\n",
    "* https://developer.lsst.io/usdf/lsst-login.html\n",
    "* https://developer.lsst.io/usdf/onboarding.html"
   ]
  },
  {
   "cell_type": "markdown",
   "id": "641a9b7f-b0f9-4d45-933d-5c123a51f9e8",
   "metadata": {},
   "source": [
    "### Setting up the analysis_tools package"
   ]
  },
  {
   "cell_type": "markdown",
   "id": "53536611-c540-49fb-87db-9f45dc09bf98",
   "metadata": {},
   "source": [
    "Check the version of the stack you are using"
   ]
  },
  {
   "cell_type": "code",
   "execution_count": 2,
   "id": "04c5caf9-7177-4d59-9c69-0fce71bd0816",
   "metadata": {
    "execution": {
     "iopub.execute_input": "2024-03-24T14:55:00.495669Z",
     "iopub.status.busy": "2024-03-24T14:55:00.495429Z",
     "iopub.status.idle": "2024-03-24T14:55:00.855362Z",
     "shell.execute_reply": "2024-03-24T14:55:00.854789Z",
     "shell.execute_reply.started": "2024-03-24T14:55:00.495655Z"
    },
    "tags": []
   },
   "outputs": [
    {
     "name": "stdout",
     "output_type": "stream",
     "text": [
      "lsst_distrib          g4213664e8e+399544b0f1 \tcurrent w_2024_10 setup\n"
     ]
    }
   ],
   "source": [
    "!eups list -s | grep lsst_distrib"
   ]
  },
  {
   "cell_type": "markdown",
   "id": "7712911a-48c9-499f-bb5c-e2c7d930c99b",
   "metadata": {},
   "source": [
    "The `analysis_tools` package was added to `lsst_distrib` in August 2022, and accordingly, if you have set up the LSST Stack version `w_2022_32` or later, then you should be able to import `analysis_tools` directly in the notebook.\n",
    "\n",
    "See the header for this notebook for the most recent verified Science Pipelines version for this tutorial."
   ]
  },
  {
   "cell_type": "code",
   "execution_count": 3,
   "id": "63239e01-0499-4898-8101-fd01a3897acf",
   "metadata": {
    "execution": {
     "iopub.execute_input": "2024-03-24T14:55:00.856291Z",
     "iopub.status.busy": "2024-03-24T14:55:00.856134Z",
     "iopub.status.idle": "2024-03-24T14:55:02.842878Z",
     "shell.execute_reply": "2024-03-24T14:55:02.842414Z",
     "shell.execute_reply.started": "2024-03-24T14:55:00.856275Z"
    },
    "tags": []
   },
   "outputs": [
    {
     "name": "stdout",
     "output_type": "stream",
     "text": [
      "/home/d/dagoret/repos/repos_w_2024_10/analysis_tools/python/lsst/analysis/tools/__init__.py\n"
     ]
    }
   ],
   "source": [
    "import lsst.analysis.tools\n",
    "print(lsst.analysis.tools.__file__)"
   ]
  },
  {
   "cell_type": "markdown",
   "id": "bd9e09fe-b7d4-41b2-9cad-5f61c4c14cff",
   "metadata": {
    "execution": {
     "iopub.execute_input": "2023-05-04T01:28:21.164082Z",
     "iopub.status.busy": "2023-05-04T01:28:21.163705Z",
     "iopub.status.idle": "2023-05-04T01:28:21.168877Z",
     "shell.execute_reply": "2023-05-04T01:28:21.168256Z",
     "shell.execute_reply.started": "2023-05-04T01:28:21.164065Z"
    },
    "tags": []
   },
   "source": [
    "**Additional background information:** If you are doing development on the `analysis_tools` package and want to test in a notebook, follow the guidance [here](https://nb.lsst.io/science-pipelines/development-tutorial.html). Brief version below (for work on the RSP at USDF):\n",
    "\n",
    "1. In the termal, clone the [analysis_tools](https://github.com/lsst/analysis_tools) repo and set up the package\n",
    "\n",
    "```\n",
    "source /opt/lsst/software/stack/loadLSST.bash\n",
    "setup lsst_distrib\n",
    "\n",
    "# Choose file location for your repo\n",
    "cd ~/repos/\n",
    "git clone https://github.com/lsst/analysis_tools.git\n",
    "cd analysis_tools\n",
    "setup -k -r .\n",
    "scons\n",
    "```\n",
    "\n",
    "2. Add the following line to `~/notebooks/.user_setups`\n",
    "\n",
    "```\n",
    "setup -k -r ~/repos/analysis_tools\n",
    "```\n",
    "\n",
    "Your local version of `analysis_tools` should now be accessible in a notebook."
   ]
  },
  {
   "cell_type": "markdown",
   "id": "958b0c97-2bcd-42b9-a3de-083f4828c14e",
   "metadata": {
    "tags": []
   },
   "source": [
    "## Load data for testing"
   ]
  },
  {
   "cell_type": "code",
   "execution_count": 4,
   "id": "ea55f341-506c-4df0-a5a1-93810ded50d4",
   "metadata": {
    "execution": {
     "iopub.execute_input": "2024-03-24T14:55:02.844459Z",
     "iopub.status.busy": "2024-03-24T14:55:02.844313Z",
     "iopub.status.idle": "2024-03-24T14:55:02.846676Z",
     "shell.execute_reply": "2024-03-24T14:55:02.846301Z",
     "shell.execute_reply.started": "2024-03-24T14:55:02.844445Z"
    }
   },
   "outputs": [],
   "source": [
    "import lsst.daf.butler as dafButler"
   ]
  },
  {
   "cell_type": "code",
   "execution_count": 5,
   "id": "d8502fc8-b7c0-42d5-b83e-2ceef4fa101c",
   "metadata": {
    "execution": {
     "iopub.execute_input": "2024-03-24T14:55:02.847252Z",
     "iopub.status.busy": "2024-03-24T14:55:02.847126Z",
     "iopub.status.idle": "2024-03-24T14:55:02.850943Z",
     "shell.execute_reply": "2024-03-24T14:55:02.850563Z",
     "shell.execute_reply.started": "2024-03-24T14:55:02.847239Z"
    },
    "tags": []
   },
   "outputs": [
    {
     "name": "stdout",
     "output_type": "stream",
     "text": [
      "LATISS/runs/AUXTEL_DRP_IMAGING_20230509_20240201/w_2024_05/PREOPS-4871\n",
      "/sdf/group/rubin/repo/oga/\n"
     ]
    }
   ],
   "source": [
    "repo = \"/sdf/group/rubin/repo/oga/\"   \n",
    "collections = \"LATISS/runs/AUXTEL_DRP_IMAGING_20230509_20240201/w_2024_05/PREOPS-4871\"\n",
    "print(collections)\n",
    "print(repo)"
   ]
  },
  {
   "cell_type": "code",
   "execution_count": 6,
   "id": "509e92e3-77e8-4fd9-bfab-4b1f764d70d9",
   "metadata": {
    "execution": {
     "iopub.execute_input": "2024-03-24T14:55:02.851572Z",
     "iopub.status.busy": "2024-03-24T14:55:02.851450Z",
     "iopub.status.idle": "2024-03-24T14:55:03.369453Z",
     "shell.execute_reply": "2024-03-24T14:55:03.369008Z",
     "shell.execute_reply.started": "2024-03-24T14:55:02.851561Z"
    },
    "tags": []
   },
   "outputs": [],
   "source": [
    "butler = dafButler.Butler(repo, collections=collections)\n",
    "registry = butler.registry"
   ]
  },
  {
   "cell_type": "markdown",
   "id": "9efe83a0-d105-4a49-8519-0ec861bf2b6c",
   "metadata": {
    "execution": {
     "iopub.execute_input": "2023-04-19T04:34:52.356165Z",
     "iopub.status.busy": "2023-04-19T04:34:52.355921Z",
     "iopub.status.idle": "2023-04-19T04:34:52.358613Z",
     "shell.execute_reply": "2023-04-19T04:34:52.358183Z",
     "shell.execute_reply.started": "2023-04-19T04:34:52.356149Z"
    },
    "tags": []
   },
   "source": [
    "Check what dataset types are present in the collection. Note that the cell below will show _only the dataset types that are present in the specified collection_, not all of the possible dataset types that are known to the butler registry."
   ]
  },
  {
   "cell_type": "code",
   "execution_count": 7,
   "id": "4b2522e7-35e1-4475-b503-e727bae939f3",
   "metadata": {
    "execution": {
     "iopub.execute_input": "2024-03-24T14:55:03.370201Z",
     "iopub.status.busy": "2024-03-24T14:55:03.370055Z",
     "iopub.status.idle": "2024-03-24T14:55:16.844111Z",
     "shell.execute_reply": "2024-03-24T14:55:16.843693Z",
     "shell.execute_reply.started": "2024-03-24T14:55:03.370187Z"
    },
    "tags": []
   },
   "outputs": [
    {
     "name": "stdout",
     "output_type": "stream",
     "text": [
      "DatasetType('raw', {band, instrument, detector, physical_filter, exposure}, Exposure)\n",
      "DatasetType('bias', {instrument, detector}, ExposureF, isCalibration=True)\n",
      "DatasetType('camera', {instrument}, Camera, isCalibration=True)\n",
      "DatasetType('dark', {instrument, detector}, ExposureF, isCalibration=True)\n",
      "DatasetType('defects', {instrument, detector}, Defects, isCalibration=True)\n",
      "DatasetType('flat', {band, instrument, detector, physical_filter}, ExposureF, isCalibration=True)\n",
      "DatasetType('gaia_dr2_20200414', {htm7}, SimpleCatalog)\n",
      "DatasetType('skyMap', {skymap}, SkyMap)\n",
      "DatasetType('atlas_refcat2_20220201', {htm7}, SimpleCatalog)\n",
      "DatasetType('packages', {}, Packages)\n",
      "DatasetType('isr_config', {}, Config)\n",
      "DatasetType('isr_metadata', {band, instrument, detector, physical_filter, exposure}, TaskMetadata)\n",
      "DatasetType('isr_log', {band, instrument, detector, physical_filter, exposure}, ButlerLogRecords)\n",
      "DatasetType('icSrc_schema', {}, SourceCatalog)\n",
      "DatasetType('src_schema', {}, SourceCatalog)\n",
      "DatasetType('calibrate_config', {}, Config)\n",
      "DatasetType('characterizeImage_config', {}, Config)\n",
      "DatasetType('transformSourceTable_config', {}, Config)\n",
      "DatasetType('icSrc', {band, instrument, detector, physical_filter, visit}, SourceCatalog)\n",
      "DatasetType('icExpBackground', {band, instrument, detector, physical_filter, visit}, Background)\n",
      "DatasetType('icExp', {band, instrument, detector, physical_filter, visit}, ExposureF)\n",
      "DatasetType('postISRCCD', {band, instrument, detector, physical_filter, exposure}, Exposure)\n",
      "DatasetType('src', {band, instrument, detector, physical_filter, visit}, SourceCatalog)\n",
      "DatasetType('source', {band, instrument, detector, physical_filter, visit}, DataFrame)\n",
      "DatasetType('calexpBackground', {band, instrument, detector, physical_filter, visit}, Background)\n",
      "DatasetType('calexp', {band, instrument, detector, physical_filter, visit}, ExposureF)\n",
      "DatasetType('srcMatchFull', {band, instrument, detector, physical_filter, visit}, Catalog)\n",
      "DatasetType('srcMatch', {band, instrument, detector, physical_filter, visit}, Catalog)\n",
      "DatasetType('calibrate_metadata', {band, instrument, detector, physical_filter, visit}, TaskMetadata)\n",
      "DatasetType('calibrate_log', {band, instrument, detector, physical_filter, visit}, ButlerLogRecords)\n",
      "DatasetType('characterizeImage_metadata', {band, instrument, detector, physical_filter, visit}, TaskMetadata)\n",
      "DatasetType('characterizeImage_log', {band, instrument, detector, physical_filter, visit}, ButlerLogRecords)\n",
      "DatasetType('sourceTable', {band, instrument, detector, physical_filter, visit}, DataFrame)\n",
      "DatasetType('transformSourceTable_metadata', {band, instrument, detector, physical_filter, visit}, TaskMetadata)\n",
      "DatasetType('transformSourceTable_log', {band, instrument, detector, physical_filter, visit}, ButlerLogRecords)\n",
      "DatasetType('consolidateSourceTable_config', {}, Config)\n",
      "DatasetType('sourceTable_visit', {band, instrument, physical_filter, visit}, DataFrame)\n",
      "DatasetType('consolidateSourceTable_metadata', {band, instrument, physical_filter, visit}, TaskMetadata)\n",
      "DatasetType('consolidateSourceTable_log', {band, instrument, physical_filter, visit}, ButlerLogRecords)\n",
      "DatasetType('makeCcdVisitTable_config', {}, Config)\n",
      "DatasetType('consolidateVisitSummary_config', {}, Config)\n",
      "DatasetType('visitSummary', {band, instrument, physical_filter, visit}, ExposureCatalog)\n",
      "DatasetType('ccdVisitTable', {instrument}, DataFrame)\n",
      "DatasetType('makeCcdVisitTable_metadata', {instrument}, TaskMetadata)\n",
      "DatasetType('makeCcdVisitTable_log', {instrument}, ButlerLogRecords)\n",
      "DatasetType('consolidateVisitSummary_metadata', {band, instrument, physical_filter, visit}, TaskMetadata)\n",
      "DatasetType('consolidateVisitSummary_log', {band, instrument, physical_filter, visit}, ButlerLogRecords)\n",
      "DatasetType('finalizeCharacterization_config', {}, Config)\n",
      "DatasetType('isolatedStarAssociation_config', {}, Config)\n",
      "DatasetType('isolated_star_cat', {instrument, skymap, tract}, DataFrame)\n",
      "DatasetType('isolated_star_sources', {instrument, skymap, tract}, DataFrame)\n",
      "DatasetType('finalized_psf_ap_corr_catalog', {band, instrument, physical_filter, visit}, ExposureCatalog)\n",
      "DatasetType('finalized_src_table', {band, instrument, physical_filter, visit}, DataFrame)\n",
      "DatasetType('finalizeCharacterization_metadata', {band, instrument, physical_filter, visit}, TaskMetadata)\n",
      "DatasetType('isolatedStarAssociation_metadata', {instrument, skymap, tract}, TaskMetadata)\n",
      "DatasetType('finalizeCharacterization_log', {band, instrument, physical_filter, visit}, ButlerLogRecords)\n",
      "DatasetType('isolatedStarAssociation_log', {instrument, skymap, tract}, ButlerLogRecords)\n",
      "DatasetType('makeWarp_config', {}, Config)\n",
      "DatasetType('deepCoadd_directWarp', {band, instrument, skymap, physical_filter, tract, patch, visit}, ExposureF)\n",
      "DatasetType('deepCoadd_psfMatchedWarp', {band, instrument, skymap, physical_filter, tract, patch, visit}, ExposureF)\n",
      "DatasetType('makeWarp_metadata', {band, instrument, skymap, physical_filter, tract, patch, visit}, TaskMetadata)\n",
      "DatasetType('makeWarp_log', {band, instrument, skymap, physical_filter, tract, patch, visit}, ButlerLogRecords)\n",
      "DatasetType('assembleCoadd_config', {}, Config)\n",
      "DatasetType('makeVisitTable_config', {}, Config)\n",
      "DatasetType('deepCoadd_nImage', {band, skymap, tract, patch}, ImageU)\n",
      "DatasetType('deepCoadd_inputMap', {band, skymap, tract, patch}, HealSparseMap)\n",
      "DatasetType('deepCoadd', {band, skymap, tract, patch}, ExposureF)\n",
      "DatasetType('assembleCoadd_metadata', {band, skymap, tract, patch}, TaskMetadata)\n",
      "DatasetType('assembleCoadd_log', {band, skymap, tract, patch}, ButlerLogRecords)\n",
      "DatasetType('visitTable', {instrument}, DataFrame)\n",
      "DatasetType('makeVisitTable_metadata', {instrument}, TaskMetadata)\n",
      "DatasetType('makeVisitTable_log', {instrument}, ButlerLogRecords)\n",
      "DatasetType('healSparsePropertyMaps_config', {}, Config)\n",
      "DatasetType('deepCoadd_epoch_map_max', {band, skymap, tract}, HealSparseMap)\n",
      "DatasetType('deepCoadd_dcr_dra_map_weighted_mean', {band, skymap, tract}, HealSparseMap)\n",
      "DatasetType('deepCoadd_epoch_map_min', {band, skymap, tract}, HealSparseMap)\n",
      "DatasetType('deepCoadd_psf_e1_map_weighted_mean', {band, skymap, tract}, HealSparseMap)\n",
      "DatasetType('deepCoadd_psf_maglim_map_weighted_mean', {band, skymap, tract}, HealSparseMap)\n",
      "DatasetType('deepCoadd_psf_size_map_weighted_mean', {band, skymap, tract}, HealSparseMap)\n",
      "DatasetType('deepCoadd_dcr_e1_map_weighted_mean', {band, skymap, tract}, HealSparseMap)\n",
      "DatasetType('deepCoadd_sky_noise_map_weighted_mean', {band, skymap, tract}, HealSparseMap)\n",
      "DatasetType('deepCoadd_sky_background_map_weighted_mean', {band, skymap, tract}, HealSparseMap)\n",
      "DatasetType('deepCoadd_dcr_e2_map_weighted_mean', {band, skymap, tract}, HealSparseMap)\n",
      "DatasetType('deepCoadd_epoch_map_mean', {band, skymap, tract}, HealSparseMap)\n",
      "DatasetType('deepCoadd_exposure_time_map_sum', {band, skymap, tract}, HealSparseMap)\n",
      "DatasetType('deepCoadd_dcr_ddec_map_weighted_mean', {band, skymap, tract}, HealSparseMap)\n",
      "DatasetType('deepCoadd_psf_e2_map_weighted_mean', {band, skymap, tract}, HealSparseMap)\n",
      "DatasetType('healSparsePropertyMaps_metadata', {band, skymap, tract}, TaskMetadata)\n",
      "DatasetType('healSparsePropertyMaps_log', {band, skymap, tract}, ButlerLogRecords)\n",
      "DatasetType('visitSummary_schema', {}, ExposureCatalog)\n",
      "DatasetType('finalVisitSummary_schema', {}, ExposureCatalog)\n",
      "DatasetType('updateVisitSummary_config', {}, Config)\n",
      "DatasetType('finalVisitSummary', {band, instrument, physical_filter, visit}, ExposureCatalog)\n",
      "DatasetType('updateVisitSummary_metadata', {band, instrument, physical_filter, visit}, TaskMetadata)\n",
      "DatasetType('updateVisitSummary_log', {band, instrument, physical_filter, visit}, ButlerLogRecords)\n",
      "DatasetType('deepCoadd_det_schema', {}, SourceCatalog)\n",
      "DatasetType('detection_config', {}, Config)\n",
      "DatasetType('deepCoadd_det', {band, skymap, tract, patch}, SourceCatalog)\n",
      "DatasetType('deepCoadd_calexp', {band, skymap, tract, patch}, ExposureF)\n",
      "DatasetType('deepCoadd_calexp_background', {band, skymap, tract, patch}, Background)\n",
      "DatasetType('detection_metadata', {band, skymap, tract, patch}, TaskMetadata)\n",
      "DatasetType('detection_log', {band, skymap, tract, patch}, ButlerLogRecords)\n",
      "DatasetType('deepCoadd_peak_schema', {}, PeakCatalog)\n",
      "DatasetType('deepCoadd_mergeDet_schema', {}, SourceCatalog)\n",
      "DatasetType('mergeDetections_config', {}, Config)\n",
      "DatasetType('deepCoadd_deblendedFlux_schema', {}, SourceCatalog)\n",
      "DatasetType('deblend_config', {}, Config)\n",
      "DatasetType('deepCoadd_mergeDet', {skymap, tract, patch}, SourceCatalog)\n",
      "DatasetType('mergeDetections_metadata', {skymap, tract, patch}, TaskMetadata)\n",
      "DatasetType('mergeDetections_log', {skymap, tract, patch}, ButlerLogRecords)\n",
      "DatasetType('deepCoadd_deblendedCatalog', {skymap, tract, patch}, SourceCatalog)\n",
      "DatasetType('deepCoadd_scarletModelData', {skymap, tract, patch}, ScarletModelData)\n",
      "DatasetType('deblend_metadata', {skymap, tract, patch}, TaskMetadata)\n",
      "DatasetType('deblend_log', {skymap, tract, patch}, ButlerLogRecords)\n",
      "DatasetType('deepCoadd_meas_schema', {}, SourceCatalog)\n",
      "DatasetType('measure_config', {}, Config)\n",
      "DatasetType('deepCoadd_ref_schema', {}, SourceCatalog)\n",
      "DatasetType('mergeMeasurements_config', {}, Config)\n",
      "DatasetType('deepCoadd_meas', {band, skymap, tract, patch}, SourceCatalog)\n",
      "DatasetType('deepCoadd_measMatch', {band, skymap, tract, patch}, Catalog)\n",
      "DatasetType('measure_metadata', {band, skymap, tract, patch}, TaskMetadata)\n",
      "DatasetType('measure_log', {band, skymap, tract, patch}, ButlerLogRecords)\n",
      "DatasetType('deepCoadd_ref', {skymap, tract, patch}, SourceCatalog)\n",
      "DatasetType('mergeMeasurements_metadata', {skymap, tract, patch}, TaskMetadata)\n",
      "DatasetType('mergeMeasurements_log', {skymap, tract, patch}, ButlerLogRecords)\n",
      "DatasetType('deepCoadd_forced_src_schema', {}, SourceCatalog)\n",
      "DatasetType('forcedPhotCoadd_config', {}, Config)\n",
      "DatasetType('writeObjectTable_config', {}, Config)\n",
      "DatasetType('transformObjectTable_config', {}, Config)\n",
      "DatasetType('consolidateObjectTable_config', {}, Config)\n",
      "DatasetType('deepCoadd_forced_src', {band, skymap, tract, patch}, SourceCatalog)\n",
      "DatasetType('deepCoadd_obj', {skymap, tract, patch}, DataFrame)\n",
      "DatasetType('objectTable', {skymap, tract, patch}, DataFrame)\n",
      "DatasetType('forcedPhotCoadd_metadata', {band, skymap, tract, patch}, TaskMetadata)\n",
      "DatasetType('forcedPhotCoadd_log', {band, skymap, tract, patch}, ButlerLogRecords)\n",
      "DatasetType('writeObjectTable_metadata', {skymap, tract, patch}, TaskMetadata)\n",
      "DatasetType('writeObjectTable_log', {skymap, tract, patch}, ButlerLogRecords)\n",
      "DatasetType('transformObjectTable_metadata', {skymap, tract, patch}, TaskMetadata)\n",
      "DatasetType('transformObjectTable_log', {skymap, tract, patch}, ButlerLogRecords)\n",
      "DatasetType('objectTable_tract', {skymap, tract}, DataFrame)\n",
      "DatasetType('consolidateObjectTable_metadata', {skymap, tract}, TaskMetadata)\n",
      "DatasetType('consolidateObjectTable_log', {skymap, tract}, ButlerLogRecords)\n",
      "DatasetType('deepCoadd_measMatchFull', {band, skymap, tract, patch}, Catalog)\n",
      "DatasetType('forced_src_schema', {}, SourceCatalog)\n",
      "DatasetType('forcedPhotCcd_config', {}, Config)\n",
      "DatasetType('forced_src', {band, instrument, skymap, detector, physical_filter, tract, visit}, SourceCatalog)\n",
      "DatasetType('forcedPhotCcd_metadata', {band, instrument, skymap, detector, physical_filter, tract, visit}, TaskMetadata)\n",
      "DatasetType('forcedPhotCcd_log', {band, instrument, skymap, detector, physical_filter, tract, visit}, ButlerLogRecords)\n",
      "DatasetType('analyzeMatchedVisitCore_config', {}, Config)\n",
      "DatasetType('crosstalk', {instrument, detector}, CrosstalkCalib, isCalibration=True)\n",
      "DatasetType('goodSeeingDiff_differenceTempExp', {band, instrument, detector, physical_filter, visit}, ExposureF)\n",
      "DatasetType('getTemplate_metadata', {band, instrument, skymap, detector, physical_filter, visit}, TaskMetadata)\n",
      "DatasetType('goodSeeingVisits', {band, instrument, skymap, tract, patch}, StructuredDataDict)\n",
      "DatasetType('detectAndMeasureDiaSources_log', {band, instrument, detector, physical_filter, visit}, ButlerLogRecords)\n",
      "DatasetType('detectAndMeasureDiaSources_config', {}, Config)\n",
      "DatasetType('subtractImages_config', {}, Config)\n",
      "DatasetType('getTemplate_log', {band, instrument, skymap, detector, physical_filter, visit}, ButlerLogRecords)\n",
      "DatasetType('transformDiaSourceCat_log', {band, instrument, detector, physical_filter, visit}, ButlerLogRecords)\n",
      "DatasetType('subtractImages_metadata', {band, instrument, detector, physical_filter, visit}, TaskMetadata)\n",
      "DatasetType('goodSeeingDiff_diaSrc', {band, instrument, detector, physical_filter, visit}, SourceCatalog)\n",
      "DatasetType('detectAndMeasureDiaSources_metadata', {band, instrument, detector, physical_filter, visit}, TaskMetadata)\n",
      "DatasetType('subtractImages_log', {band, instrument, detector, physical_filter, visit}, ButlerLogRecords)\n",
      "DatasetType('goodSeeingDiff_diaSrcTable', {band, instrument, detector, physical_filter, visit}, DataFrame)\n",
      "DatasetType('goodSeeingDiff_differenceExp', {band, instrument, detector, physical_filter, visit}, ExposureF)\n",
      "DatasetType('selectGoodSeeingVisits_config', {}, Config)\n",
      "DatasetType('goodSeeingDiff_matchedExp', {band, instrument, detector, physical_filter, visit}, ExposureF)\n",
      "DatasetType('forced_diff_schema', {}, SourceCatalog)\n",
      "DatasetType('templateGen_metadata', {band, skymap, tract, patch}, TaskMetadata)\n",
      "DatasetType('goodSeeingCoadd', {band, skymap, tract, patch}, ExposureF)\n",
      "DatasetType('templateGen_log', {band, skymap, tract, patch}, ButlerLogRecords)\n",
      "DatasetType('templateGen_config', {}, Config)\n",
      "DatasetType('getTemplate_config', {}, Config)\n",
      "DatasetType('transformDiaSourceCat_config', {}, Config)\n",
      "DatasetType('writeForcedSourceTable_config', {}, Config)\n",
      "DatasetType('goodSeeingDiff_templateExp', {band, instrument, detector, physical_filter, visit}, ExposureF)\n",
      "DatasetType('selectGoodSeeingVisits_log', {band, instrument, skymap, tract, patch}, ButlerLogRecords)\n",
      "DatasetType('goodSeeingCoadd_nImage', {band, skymap, tract, patch}, ImageU)\n",
      "DatasetType('transformDiaSourceCat_metadata', {band, instrument, detector, physical_filter, visit}, TaskMetadata)\n",
      "DatasetType('forcedPhotDiffim_config', {}, Config)\n",
      "DatasetType('goodSeeingDiff_diaSrc_schema', {}, SourceCatalog)\n",
      "DatasetType('selectGoodSeeingVisits_metadata', {band, instrument, skymap, tract, patch}, TaskMetadata)\n",
      "DatasetType('forcedPhotDiffim_metadata', {band, instrument, skymap, detector, physical_filter, tract, visit}, TaskMetadata)\n",
      "DatasetType('writeForcedSourceTable_log', {band, instrument, skymap, detector, physical_filter, tract, visit}, ButlerLogRecords)\n",
      "DatasetType('mergedForcedSource', {band, instrument, skymap, detector, physical_filter, tract, visit}, DataFrame)\n",
      "DatasetType('writeForcedSourceTable_metadata', {band, instrument, skymap, detector, physical_filter, tract, visit}, TaskMetadata)\n",
      "DatasetType('forcedPhotDiffim_log', {band, instrument, skymap, detector, physical_filter, tract, visit}, ButlerLogRecords)\n",
      "DatasetType('forced_diff', {band, instrument, skymap, detector, physical_filter, tract, visit}, SourceCatalog)\n",
      "DatasetType('consolidateFullDiaObjectTable_log', {instrument, skymap, tract}, ButlerLogRecords)\n",
      "DatasetType('forcedPhotDiffOnDiaObjects_metadata', {band, instrument, skymap, detector, physical_filter, tract, visit}, TaskMetadata)\n",
      "DatasetType('drpAssociation_config', {}, Config)\n",
      "DatasetType('diaSourceTable_tract', {skymap, tract}, DataFrame)\n",
      "DatasetType('forcedPhotCcdOnDiaObjects_config', {}, Config)\n",
      "DatasetType('goodSeeingDiff_assocDiaSrcTable', {skymap, tract, patch}, DataFrame)\n",
      "DatasetType('mergedForcedSourceOnDiaObject', {band, instrument, skymap, detector, physical_filter, tract, visit}, DataFrame)\n",
      "DatasetType('consolidateAssocDiaSourceTable_config', {}, Config)\n",
      "DatasetType('consolidateFullDiaObjectTable_config', {}, Config)\n",
      "DatasetType('drpDiaCalculation_metadata', {skymap, tract, patch}, TaskMetadata)\n",
      "DatasetType('forced_diff_diaObject', {band, instrument, skymap, detector, physical_filter, tract, visit}, SourceCatalog)\n",
      "DatasetType('forcedSourceOnDiaObjectTable_tract', {skymap, tract}, DataFrame)\n",
      "DatasetType('consolidateForcedSourceTable_metadata', {instrument, skymap, tract}, TaskMetadata)\n",
      "DatasetType('diaObjectTable_tract', {skymap, tract}, DataFrame)\n",
      "DatasetType('consolidateForcedSourceTable_log', {instrument, skymap, tract}, ButlerLogRecords)\n",
      "DatasetType('forcedPhotCcdOnDiaObjects_metadata', {band, instrument, skymap, detector, physical_filter, tract, visit}, TaskMetadata)\n",
      "DatasetType('writeForcedSourceOnDiaObjectTable_config', {}, Config)\n",
      "DatasetType('goodSeeingDiff_diaObjTable', {skymap, tract, patch}, DataFrame)\n",
      "DatasetType('forced_src_diaObject', {band, instrument, skymap, detector, physical_filter, tract, visit}, SourceCatalog)\n",
      "DatasetType('forcedPhotDiffOnDiaObjects_log', {band, instrument, skymap, detector, physical_filter, tract, visit}, ButlerLogRecords)\n",
      "DatasetType('consolidateDiaSourceTable_metadata', {band, instrument, physical_filter, visit}, TaskMetadata)\n",
      "DatasetType('consolidateAssocDiaSourceTable_metadata', {instrument, skymap, tract}, TaskMetadata)\n",
      "DatasetType('drpAssociation_metadata', {skymap, tract, patch}, TaskMetadata)\n",
      "DatasetType('drpAssociation_log', {skymap, tract, patch}, ButlerLogRecords)\n",
      "DatasetType('drpDiaCalculation_config', {}, Config)\n",
      "DatasetType('consolidateDiaSourceTable_log', {band, instrument, physical_filter, visit}, ButlerLogRecords)\n",
      "DatasetType('consolidateFullDiaObjectTable_metadata', {instrument, skymap, tract}, TaskMetadata)\n",
      "DatasetType('consolidateForcedSourceOnDiaObjectTable_log', {instrument, skymap, tract}, ButlerLogRecords)\n",
      "DatasetType('consolidateForcedSourceOnDiaObjectTable_config', {}, Config)\n",
      "DatasetType('transformForcedSourceTable_config', {}, Config)\n",
      "DatasetType('transformForcedSourceOnDiaObjectTable_config', {}, Config)\n",
      "DatasetType('consolidateDiaSourceTable_config', {}, Config)\n",
      "DatasetType('drpDiaCalculation_log', {skymap, tract, patch}, ButlerLogRecords)\n",
      "DatasetType('writeForcedSourceOnDiaObjectTable_metadata', {band, instrument, skymap, detector, physical_filter, tract, visit}, TaskMetadata)\n",
      "DatasetType('consolidateForcedSourceOnDiaObjectTable_metadata', {instrument, skymap, tract}, TaskMetadata)\n",
      "DatasetType('transformForcedSourceOnDiaObjectTable_log', {instrument, skymap, tract, patch}, ButlerLogRecords)\n",
      "DatasetType('transformForcedSourceTable_metadata', {instrument, skymap, tract, patch}, TaskMetadata)\n",
      "DatasetType('forcedPhotDiffOnDiaObjects_config', {}, Config)\n",
      "DatasetType('transformForcedSourceOnDiaObjectTable_metadata', {instrument, skymap, tract, patch}, TaskMetadata)\n",
      "DatasetType('forcedPhotCcdOnDiaObjects_log', {band, instrument, skymap, detector, physical_filter, tract, visit}, ButlerLogRecords)\n",
      "DatasetType('forced_src_diaObject_schema', {}, SourceCatalog)\n",
      "DatasetType('forcedSourceTable_tract', {skymap, tract}, DataFrame)\n",
      "DatasetType('consolidateAssocDiaSourceTable_log', {instrument, skymap, tract}, ButlerLogRecords)\n",
      "DatasetType('consolidateForcedSourceTable_config', {}, Config)\n",
      "DatasetType('writeForcedSourceOnDiaObjectTable_log', {band, instrument, skymap, detector, physical_filter, tract, visit}, ButlerLogRecords)\n",
      "DatasetType('forced_diff_diaObject_schema', {}, SourceCatalog)\n",
      "DatasetType('diaSourceTable', {band, instrument, physical_filter, visit}, DataFrame)\n",
      "DatasetType('transformForcedSourceTable_log', {instrument, skymap, tract, patch}, ButlerLogRecords)\n",
      "DatasetType('goodSeeingDiff_fullDiaObjTable', {skymap, tract, patch}, DataFrame)\n",
      "DatasetType('forcedSourceOnDiaObjectTable', {skymap, tract, patch}, DataFrame)\n",
      "DatasetType('forcedSourceTable', {skymap, tract, patch}, DataFrame)\n",
      "DatasetType('matchedVisitCore_r_stellarPhotometricRepeatability_HistPlot', {instrument, skymap, tract}, Plot)\n",
      "DatasetType('matchedVisitCore_g_stellarPhotometricRepeatability_HistPlot', {instrument, skymap, tract}, Plot)\n",
      "DatasetType('matchedVisitCore_metrics', {instrument, skymap, tract}, MetricMeasurementBundle)\n",
      "DatasetType('matchedVisitCore_i_stellarPhotometricRepeatability_HistPlot', {instrument, skymap, tract}, Plot)\n",
      "DatasetType('fgcmFitParameters0', {instrument}, Catalog)\n",
      "DatasetType('analyzeMatchedVisitCore_metadata', {instrument, skymap, tract}, TaskMetadata)\n",
      "DatasetType('analyzeMatchedVisitCore_log', {instrument, skymap, tract}, ButlerLogRecords)\n",
      "DatasetType('matchedVisitCore_i_stellarAstrometricResidualsRA_FocalPlanePlot', {instrument, skymap, tract}, Plot)\n",
      "DatasetType('matchedVisitCore_r_stellarPhotometricResiduals_FocalPlanePlot', {instrument, skymap, tract}, Plot)\n",
      "DatasetType('matchedVisitCore_g_stellarAstrometricResidualStdDevRA_FocalPlanePlot', {instrument, skymap, tract}, Plot)\n",
      "DatasetType('matchedVisitCore_i_stellarPhotometricResiduals_FocalPlanePlot', {instrument, skymap, tract}, Plot)\n",
      "DatasetType('matchedVisitCore_r_stellarAstrometricResidualStdDevRA_FocalPlanePlot', {instrument, skymap, tract}, Plot)\n",
      "DatasetType('matchedVisitCore_i_stellarAstrometricResidualStdDevRA_FocalPlanePlot', {instrument, skymap, tract}, Plot)\n",
      "DatasetType('matchedVisitCore_g_stellarPhotometricResiduals_FocalPlanePlot', {instrument, skymap, tract}, Plot)\n",
      "DatasetType('matchedVisitCore_i_stellarAstrometricResidualsDec_FocalPlanePlot', {instrument, skymap, tract}, Plot)\n",
      "DatasetType('matchedVisitCore_i_stellarAstrometricResidualStdDevDec_FocalPlanePlot', {instrument, skymap, tract}, Plot)\n",
      "DatasetType('matchedVisitCore_r_stellarAstrometricResidualsRA_FocalPlanePlot', {instrument, skymap, tract}, Plot)\n",
      "DatasetType('matchedVisitCore_g_stellarAstrometricResidualsDec_FocalPlanePlot', {instrument, skymap, tract}, Plot)\n",
      "DatasetType('matchedVisitCore_r_stellarAstrometricResidualsDec_FocalPlanePlot', {instrument, skymap, tract}, Plot)\n",
      "DatasetType('matchedVisitCore_g_stellarAstrometricResidualsRA_FocalPlanePlot', {instrument, skymap, tract}, Plot)\n",
      "DatasetType('matchedVisitCore_r_stellarAstrometricResidualStdDevDec_FocalPlanePlot', {instrument, skymap, tract}, Plot)\n",
      "DatasetType('matchedVisitCore_g_stellarAstrometricResidualStdDevDec_FocalPlanePlot', {instrument, skymap, tract}, Plot)\n",
      "DatasetType('transmission_filter', {band, instrument, physical_filter}, TransmissionCurve, isCalibration=True)\n",
      "DatasetType('analyzeObjectTableSurveyCore_config', {}, Config)\n",
      "DatasetType('refCatObjectTract_config', {}, Config)\n",
      "DatasetType('analyzeObjectTableCore_config', {}, Config)\n",
      "DatasetType('catalogMatchTract_config', {}, Config)\n",
      "DatasetType('objectTableSurvey_i_rhoStatistics_rho3alt_RhoStatisticsPlot', {skymap}, Plot)\n",
      "DatasetType('objectTableSurvey_i_rhoStatistics_rho4_RhoStatisticsPlot', {skymap}, Plot)\n",
      "DatasetType('objectTableSurvey_i_rhoStatistics_rho1_RhoStatisticsPlot', {skymap}, Plot)\n",
      "DatasetType('objectTableSurvey_i_rhoStatistics_rho5_RhoStatisticsPlot', {skymap}, Plot)\n",
      "DatasetType('objectTableSurvey_i_rhoStatistics_rho3_RhoStatisticsPlot', {skymap}, Plot)\n",
      "DatasetType('objectTableSurvey_i_rhoStatistics_rho2_RhoStatisticsPlot', {skymap}, Plot)\n",
      "DatasetType('analyzeObjectTableSurveyCore_metadata', {skymap}, TaskMetadata)\n",
      "DatasetType('analyzeObjectTableSurveyCore_log', {skymap}, ButlerLogRecords)\n",
      "DatasetType('refCatObjectTract_metadata', {skymap, tract}, TaskMetadata)\n",
      "DatasetType('refCatObjectTract_log', {skymap, tract}, ButlerLogRecords)\n",
      "DatasetType('objectTableCore_r_skyObjectFlux_HistPlot', {skymap, tract}, Plot)\n",
      "DatasetType('objectTableCore_r_e1Diff_ScatterPlotWithTwoHists', {skymap, tract}, Plot)\n",
      "DatasetType('objectTableCore_metrics', {skymap, tract}, MetricMeasurementBundle)\n",
      "DatasetType('objectTableCore_i_skyObjectSky_SkyPlot', {skymap, tract}, Plot)\n",
      "DatasetType('objectTableCore_i_e1Diff_ScatterPlotWithTwoHists', {skymap, tract}, Plot)\n",
      "DatasetType('objectTableCore_r_skyObjectSky_SkyPlot', {skymap, tract}, Plot)\n",
      "DatasetType('objectTableCore_i_skyObjectFlux_HistPlot', {skymap, tract}, Plot)\n",
      "DatasetType('objectTableCore_i_e2Diff_ScatterPlotWithTwoHists', {skymap, tract}, Plot)\n",
      "DatasetType('objectTableCore_g_skyObjectSky_SkyPlot', {skymap, tract}, Plot)\n",
      "DatasetType('objectTableCore_xPerpPSFP_ColorColorFitPlot', {skymap, tract}, Plot)\n",
      "DatasetType('objectTableCore_g_shapeSizeFractionalDiff_ScatterPlotWithTwoHists', {skymap, tract}, Plot)\n",
      "DatasetType('objectTableCore_xPerpCModel_ColorColorFitPlot', {skymap, tract}, Plot)\n",
      "DatasetType('objectTableCore_r_shapeSizeFractionalDiff_ScatterPlotWithTwoHists', {skymap, tract}, Plot)\n",
      "DatasetType('objectTableCore_g_e1Diff_ScatterPlotWithTwoHists', {skymap, tract}, Plot)\n",
      "DatasetType('objectTableCore_wPerpPSFP_ColorColorFitPlot', {skymap, tract}, Plot)\n",
      "DatasetType('objectTableCore_i_shapeSizeFractionalDiff_ScatterPlotWithTwoHists', {skymap, tract}, Plot)\n",
      "DatasetType('objectTableCore_wPerpCModel_ColorColorFitPlot', {skymap, tract}, Plot)\n",
      "DatasetType('objectTableCore_g_skyObjectFlux_HistPlot', {skymap, tract}, Plot)\n",
      "DatasetType('objectTableCore_g_e2Diff_ScatterPlotWithTwoHists', {skymap, tract}, Plot)\n",
      "DatasetType('objectTableCore_r_e2Diff_ScatterPlotWithTwoHists', {skymap, tract}, Plot)\n",
      "DatasetType('analyzeObjectTableCore_metadata', {skymap, tract}, TaskMetadata)\n",
      "DatasetType('analyzeObjectTableCore_log', {skymap, tract}, ButlerLogRecords)\n",
      "DatasetType('catalogMatchTract_metadata', {skymap, tract}, TaskMetadata)\n",
      "DatasetType('catalogMatchTract_log', {skymap, tract}, ButlerLogRecords)\n",
      "DatasetType('transmission_optics', {instrument}, TransmissionCurve, isCalibration=True)\n",
      "DatasetType('transmission_sensor', {instrument, detector}, TransmissionCurve, isCalibration=True)\n",
      "DatasetType('fgcmLookUpTable', {instrument}, Catalog)\n",
      "DatasetType('fgcmBuildFromIsolatedStars_config', {}, Config)\n",
      "DatasetType('fgcm_star_ids', {instrument}, ArrowAstropy)\n",
      "DatasetType('fgcm_reference_stars', {instrument}, ArrowAstropy)\n",
      "DatasetType('fgcmVisitCatalog', {instrument}, Catalog)\n",
      "DatasetType('fgcm_star_observations', {instrument}, ArrowAstropy)\n",
      "DatasetType('fgcmBuildFromIsolatedStars_metadata', {instrument}, TaskMetadata)\n",
      "DatasetType('fgcmBuildFromIsolatedStars_log', {instrument}, ButlerLogRecords)\n",
      "DatasetType('fgcmFitCycle_config', {}, Config)\n",
      "DatasetType('fgcmFlaggedStars0', {instrument}, Catalog)\n",
      "DatasetType('fgcmFitParameters4', {instrument}, Catalog)\n",
      "DatasetType('fgcmFlaggedStars1', {instrument}, Catalog)\n",
      "DatasetType('fgcmFlaggedStars2', {instrument}, Catalog)\n",
      "DatasetType('fgcmFitParameters3', {instrument}, Catalog)\n",
      "DatasetType('fgcmFitParameters1', {instrument}, Catalog)\n",
      "DatasetType('fgcmFlaggedStars4', {instrument}, Catalog)\n",
      "DatasetType('fgcmFitParameters2', {instrument}, Catalog)\n",
      "DatasetType('fgcmFlaggedStars3', {instrument}, Catalog)\n",
      "DatasetType('fgcmFitCycle_metadata', {instrument}, TaskMetadata)\n",
      "DatasetType('fgcmFitCycle_log', {instrument}, ButlerLogRecords)\n",
      "DatasetType('fgcmStandardStars6', {instrument}, SimpleCatalog)\n",
      "DatasetType('fgcmZeropoints6', {instrument}, Catalog)\n",
      "DatasetType('fgcmFitParameters5', {instrument}, Catalog)\n",
      "DatasetType('fgcmAtmosphereParameters6', {instrument}, Catalog)\n",
      "DatasetType('fgcmFlaggedStars6', {instrument}, Catalog)\n",
      "DatasetType('fgcmFitParameters6', {instrument}, Catalog)\n",
      "DatasetType('fgcmFlaggedStars5', {instrument}, Catalog)\n",
      "DatasetType('writePreSourceTable_config', {}, Config)\n",
      "DatasetType('writePreSourceTable_log', {band, instrument, detector, physical_filter, visit}, ButlerLogRecords)\n",
      "DatasetType('transformPreSourceTable_config', {}, Config)\n",
      "DatasetType('preSourceTable', {band, instrument, detector, physical_filter, visit}, DataFrame)\n",
      "DatasetType('transformPreSourceTable_log', {band, instrument, detector, physical_filter, visit}, ButlerLogRecords)\n",
      "DatasetType('preSource', {band, instrument, detector, physical_filter, visit}, DataFrame)\n",
      "DatasetType('writePreSourceTable_metadata', {band, instrument, detector, physical_filter, visit}, TaskMetadata)\n",
      "DatasetType('transformPreSourceTable_metadata', {band, instrument, detector, physical_filter, visit}, TaskMetadata)\n",
      "DatasetType('consolidatePreSourceTable_config', {}, Config)\n",
      "DatasetType('consolidatePreSourceTable_log', {band, instrument, physical_filter, visit}, ButlerLogRecords)\n",
      "DatasetType('consolidatePreSourceTable_metadata', {band, instrument, physical_filter, visit}, TaskMetadata)\n",
      "DatasetType('preSourceTable_visit', {band, instrument, physical_filter, visit}, DataFrame)\n",
      "DatasetType('fgcmOutputProducts_metadata', {instrument}, TaskMetadata)\n",
      "DatasetType('transmission_atmosphere_fgcm', {band, instrument, physical_filter, visit}, TransmissionCurve)\n",
      "DatasetType('fgcmPhotoCalibCatalog', {band, instrument, physical_filter, visit}, ExposureCatalog)\n",
      "DatasetType('fgcmOutputProducts_log', {instrument}, ButlerLogRecords)\n",
      "DatasetType('fgcmOutputProducts_config', {}, Config)\n",
      "DatasetType('writeRecalibratedSourceTable_config', {}, Config)\n",
      "DatasetType('writeRecalibratedSourceTable_metadata', {band, instrument, skymap, detector, physical_filter, visit}, TaskMetadata)\n",
      "DatasetType('writeRecalibratedSourceTable_log', {band, instrument, skymap, detector, physical_filter, visit}, ButlerLogRecords)\n",
      "DatasetType('gaia_dr3_20230707', {htm7}, SimpleCatalog)\n",
      "DatasetType('plot_wFit_PSF_config', {}, Config)\n",
      "DatasetType('plot_ri_gr_cmodel_config', {}, Config)\n",
      "DatasetType('validateObjectTableCore_config', {}, Config)\n",
      "DatasetType('plot_xFit_PSF_config', {}, Config)\n",
      "DatasetType('plot_ri_gr_psf_config', {}, Config)\n",
      "DatasetType('matchedVisitCore_g_stellarAstrometricRepeatability1_HistPlot', {instrument, skymap, tract}, Plot)\n",
      "DatasetType('matchedVisitCore_r_stellarAstrometricRepeatability1_HistPlot', {instrument, skymap, tract}, Plot)\n",
      "DatasetType('matchedVisitCore_i_stellarAstrometricRepeatability1_HistPlot', {instrument, skymap, tract}, Plot)\n",
      "DatasetType('colorColorFitPlot_wFit_PSF', {skymap, tract}, Plot)\n",
      "DatasetType('plot_wFit_PSF_metadata', {skymap, tract}, TaskMetadata)\n",
      "DatasetType('plot_wFit_PSF_log', {skymap, tract}, ButlerLogRecords)\n",
      "DatasetType('colorColorPlot_ri_gr_cmodel', {skymap, tract}, Plot)\n",
      "DatasetType('plot_ri_gr_cmodel_metadata', {skymap, tract}, TaskMetadata)\n",
      "DatasetType('plot_ri_gr_cmodel_log', {skymap, tract}, ButlerLogRecords)\n",
      "DatasetType('objectTableColumnValidate_metrics', {skymap, tract}, MetricMeasurementBundle)\n",
      "DatasetType('validateObjectTableCore_metadata', {skymap, tract}, TaskMetadata)\n",
      "DatasetType('validateObjectTableCore_log', {skymap, tract}, ButlerLogRecords)\n",
      "DatasetType('colorColorFitPlot_xFit_PSF', {skymap, tract}, Plot)\n",
      "DatasetType('plot_xFit_PSF_metadata', {skymap, tract}, TaskMetadata)\n",
      "DatasetType('plot_xFit_PSF_log', {skymap, tract}, ButlerLogRecords)\n",
      "DatasetType('colorColorPlot_ri_gr_psf', {skymap, tract}, Plot)\n",
      "DatasetType('plot_ri_gr_psf_metadata', {skymap, tract}, TaskMetadata)\n",
      "DatasetType('plot_ri_gr_psf_log', {skymap, tract}, ButlerLogRecords)\n",
      "DatasetType('selectDeepCoaddVisits_config', {}, Config)\n",
      "DatasetType('deepCoaddVisits', {band, instrument, skymap, tract, patch}, StructuredDataDict)\n",
      "DatasetType('selectDeepCoaddVisits_metadata', {band, instrument, skymap, tract, patch}, TaskMetadata)\n",
      "DatasetType('selectDeepCoaddVisits_log', {band, instrument, skymap, tract, patch}, ButlerLogRecords)\n",
      "DatasetType('photometricCatalogMatch_config', {}, Config)\n",
      "DatasetType('objectTable_tract_atlas_refcat2_20220201_match', {skymap, tract}, ArrowAstropy)\n",
      "DatasetType('photometricCatalogMatch_metadata', {skymap, tract}, TaskMetadata)\n",
      "DatasetType('photometricCatalogMatch_log', {skymap, tract}, ButlerLogRecords)\n",
      "DatasetType('photometricRefCatObjectTract_config', {}, Config)\n",
      "DatasetType('photometricRefCatObjectTract_metadata', {skymap, tract}, TaskMetadata)\n",
      "DatasetType('photometricRefCatObjectTract_log', {skymap, tract}, ButlerLogRecords)\n",
      "DatasetType('objectTable_tract_atlas_refcat2_20220201_match_g_targetRefCatDeltaPsfSkyPlot_SkyPlot', {skymap, tract}, Plot)\n",
      "DatasetType('objectTable_tract_atlas_refcat2_20220201_match_r_targetRefCatDeltaPsfScatterPlot_ScatterPlotWithTwoHists', {skymap, tract}, Plot)\n",
      "DatasetType('objectTable_tract_atlas_refcat2_20220201_match_i_targetRefCatDeltaCModelSkyPlot_SkyPlot', {skymap, tract}, Plot)\n",
      "DatasetType('objectTable_tract_atlas_refcat2_20220201_match_g_targetRefCatDeltaCModelScatterPlot_ScatterPlotWithTwoHists', {skymap, tract}, Plot)\n",
      "DatasetType('objectTable_tract_atlas_refcat2_20220201_match_g_targetRefCatDeltaPsfScatterPlot_ScatterPlotWithTwoHists', {skymap, tract}, Plot)\n",
      "DatasetType('objectTable_tract_atlas_refcat2_20220201_match_i_targetRefCatDeltaPsfSkyPlot_SkyPlot', {skymap, tract}, Plot)\n",
      "DatasetType('objectTable_tract_atlas_refcat2_20220201_match_r_targetRefCatDeltaCModelSkyPlot_SkyPlot', {skymap, tract}, Plot)\n",
      "DatasetType('objectTable_tract_atlas_refcat2_20220201_match_g_targetRefCatDeltaCModelSkyPlot_SkyPlot', {skymap, tract}, Plot)\n",
      "DatasetType('objectTable_tract_atlas_refcat2_20220201_match_i_targetRefCatDeltaCModelScatterPlot_ScatterPlotWithTwoHists', {skymap, tract}, Plot)\n",
      "DatasetType('objectTable_tract_atlas_refcat2_20220201_match_i_targetRefCatDeltaPsfScatterPlot_ScatterPlotWithTwoHists', {skymap, tract}, Plot)\n",
      "DatasetType('objectTable_tract_atlas_refcat2_20220201_match_r_targetRefCatDeltaCModelScatterPlot_ScatterPlotWithTwoHists', {skymap, tract}, Plot)\n",
      "DatasetType('objectTable_tract_atlas_refcat2_20220201_match_r_targetRefCatDeltaPsfSkyPlot_SkyPlot', {skymap, tract}, Plot)\n",
      "DatasetType('objectTable_tract_gaia_dr3_20230707_match', {skymap, tract}, ArrowAstropy)\n",
      "DatasetType('objectTable_tract_gaia_dr3_20230707_match_r_astromDiffRASkyPlot_SkyPlot', {skymap, tract}, Plot)\n",
      "DatasetType('objectTable_tract_gaia_dr3_20230707_match_r_astromDiffDecScatterPlot_ScatterPlotWithTwoHists', {skymap, tract}, Plot)\n",
      "DatasetType('objectTable_tract_gaia_dr3_20230707_match_r_astromDiffRAScatterPlot_ScatterPlotWithTwoHists', {skymap, tract}, Plot)\n",
      "DatasetType('objectTable_tract_gaia_dr3_20230707_match_i_astromDiffRASkyPlot_SkyPlot', {skymap, tract}, Plot)\n",
      "DatasetType('objectTable_tract_gaia_dr3_20230707_match_r_astromDiffDecSkyPlot_SkyPlot', {skymap, tract}, Plot)\n",
      "DatasetType('objectTable_tract_gaia_dr3_20230707_match_g_astromDiffRAScatterPlot_ScatterPlotWithTwoHists', {skymap, tract}, Plot)\n",
      "DatasetType('objectTable_tract_gaia_dr3_20230707_match_g_astromDiffDecScatterPlot_ScatterPlotWithTwoHists', {skymap, tract}, Plot)\n",
      "DatasetType('objectTable_tract_gaia_dr3_20230707_match_g_astromDiffRASkyPlot_SkyPlot', {skymap, tract}, Plot)\n",
      "DatasetType('objectTable_tract_gaia_dr3_20230707_match_i_astromDiffDecScatterPlot_ScatterPlotWithTwoHists', {skymap, tract}, Plot)\n",
      "DatasetType('objectTable_tract_gaia_dr3_20230707_match_g_astromDiffDecSkyPlot_SkyPlot', {skymap, tract}, Plot)\n",
      "DatasetType('objectTable_tract_gaia_dr3_20230707_match_i_astromDiffDecSkyPlot_SkyPlot', {skymap, tract}, Plot)\n",
      "DatasetType('objectTable_tract_gaia_dr3_20230707_match_i_astromDiffRAScatterPlot_ScatterPlotWithTwoHists', {skymap, tract}, Plot)\n",
      "DatasetType('objectTable_tract_gaia_dr3_20230707_match_metrics', {skymap, tract}, MetricMeasurementBundle)\n"
     ]
    }
   ],
   "source": [
    "for datasetType in registry.queryDatasetTypes():\n",
    "    if registry.queryDatasets(datasetType, collections=collections).any(execute=False, exact=False):\n",
    "        print(datasetType)"
   ]
  },
  {
   "cell_type": "markdown",
   "id": "6519bdbf-a9c7-4bb3-b9c1-c03e02177afa",
   "metadata": {
    "tags": []
   },
   "source": [
    "### Object tables\n",
    "\n",
    "The examples below use an object table"
   ]
  },
  {
   "cell_type": "code",
   "execution_count": 8,
   "id": "a86f7ad8-a6e2-4b0a-b593-eef02f9d8211",
   "metadata": {
    "execution": {
     "iopub.execute_input": "2024-03-24T14:55:16.844876Z",
     "iopub.status.busy": "2024-03-24T14:55:16.844685Z",
     "iopub.status.idle": "2024-03-24T14:55:16.862246Z",
     "shell.execute_reply": "2024-03-24T14:55:16.861885Z",
     "shell.execute_reply.started": "2024-03-24T14:55:16.844861Z"
    },
    "tags": []
   },
   "outputs": [
    {
     "name": "stdout",
     "output_type": "stream",
     "text": [
      "13\n"
     ]
    }
   ],
   "source": [
    "refs = sorted(registry.queryDatasets(\"objectTable_tract\"))\n",
    "print(len(refs))"
   ]
  },
  {
   "cell_type": "code",
   "execution_count": 9,
   "id": "00b4eb4b-9f19-4af2-b0d8-1d3a0ffed060",
   "metadata": {
    "execution": {
     "iopub.execute_input": "2024-03-24T14:55:16.862844Z",
     "iopub.status.busy": "2024-03-24T14:55:16.862720Z",
     "iopub.status.idle": "2024-03-24T14:55:16.865211Z",
     "shell.execute_reply": "2024-03-24T14:55:16.864869Z",
     "shell.execute_reply.started": "2024-03-24T14:55:16.862833Z"
    },
    "tags": []
   },
   "outputs": [
    {
     "name": "stdout",
     "output_type": "stream",
     "text": [
      "0 {skymap: 'latiss_v1', tract: 382}\n",
      "1 {skymap: 'latiss_v1', tract: 383}\n",
      "2 {skymap: 'latiss_v1', tract: 452}\n",
      "3 {skymap: 'latiss_v1', tract: 455}\n",
      "4 {skymap: 'latiss_v1', tract: 3863}\n",
      "5 {skymap: 'latiss_v1', tract: 3864}\n",
      "6 {skymap: 'latiss_v1', tract: 5614}\n",
      "7 {skymap: 'latiss_v1', tract: 5615}\n",
      "8 {skymap: 'latiss_v1', tract: 5616}\n",
      "9 {skymap: 'latiss_v1', tract: 5634}\n",
      "10 {skymap: 'latiss_v1', tract: 5839}\n",
      "11 {skymap: 'latiss_v1', tract: 10643}\n",
      "12 {skymap: 'latiss_v1', tract: 10644}\n"
     ]
    }
   ],
   "source": [
    "N = len(refs)\n",
    "for idx in range(N):\n",
    "    print(idx,refs[idx].dataId)"
   ]
  },
  {
   "cell_type": "code",
   "execution_count": 10,
   "id": "7e2b7687-a351-4422-93c9-7b73c9bcbb9a",
   "metadata": {
    "execution": {
     "iopub.execute_input": "2024-03-24T14:55:16.865794Z",
     "iopub.status.busy": "2024-03-24T14:55:16.865674Z",
     "iopub.status.idle": "2024-03-24T14:55:17.219759Z",
     "shell.execute_reply": "2024-03-24T14:55:17.219376Z",
     "shell.execute_reply.started": "2024-03-24T14:55:16.865783Z"
    },
    "tags": []
   },
   "outputs": [
    {
     "data": {
      "text/html": [
       "<div>\n",
       "<style scoped>\n",
       "    .dataframe tbody tr th:only-of-type {\n",
       "        vertical-align: middle;\n",
       "    }\n",
       "\n",
       "    .dataframe tbody tr th {\n",
       "        vertical-align: top;\n",
       "    }\n",
       "\n",
       "    .dataframe thead th {\n",
       "        text-align: right;\n",
       "    }\n",
       "</style>\n",
       "<table border=\"1\" class=\"dataframe\">\n",
       "  <thead>\n",
       "    <tr style=\"text-align: right;\">\n",
       "      <th>column</th>\n",
       "      <th>ebv</th>\n",
       "      <th>detect_isTractInner</th>\n",
       "      <th>deblend_incompleteData</th>\n",
       "      <th>deblend_peak_center_x</th>\n",
       "      <th>detect_isDeblendedModelSource</th>\n",
       "      <th>coord_ra</th>\n",
       "      <th>detect_isIsolated</th>\n",
       "      <th>merge_peak_sky</th>\n",
       "      <th>deblend_parentTooBig</th>\n",
       "      <th>xy_flag</th>\n",
       "      <th>...</th>\n",
       "      <th>r_kronFlux_flag</th>\n",
       "      <th>r_kronFlux_flag_bad_radius</th>\n",
       "      <th>r_kronFlux_flag_bad_shape</th>\n",
       "      <th>r_kronFlux_flag_bad_shape_no_psf</th>\n",
       "      <th>r_kronFlux_flag_edge</th>\n",
       "      <th>r_kronFlux_flag_no_fallback_radius</th>\n",
       "      <th>r_kronFlux_flag_no_minimum_radius</th>\n",
       "      <th>r_kronFlux_flag_small_radius</th>\n",
       "      <th>r_kronFlux_flag_used_minimum_radius</th>\n",
       "      <th>r_kronFlux_flag_used_psf_radius</th>\n",
       "    </tr>\n",
       "    <tr>\n",
       "      <th>objectId</th>\n",
       "      <th></th>\n",
       "      <th></th>\n",
       "      <th></th>\n",
       "      <th></th>\n",
       "      <th></th>\n",
       "      <th></th>\n",
       "      <th></th>\n",
       "      <th></th>\n",
       "      <th></th>\n",
       "      <th></th>\n",
       "      <th></th>\n",
       "      <th></th>\n",
       "      <th></th>\n",
       "      <th></th>\n",
       "      <th></th>\n",
       "      <th></th>\n",
       "      <th></th>\n",
       "      <th></th>\n",
       "      <th></th>\n",
       "      <th></th>\n",
       "      <th></th>\n",
       "    </tr>\n",
       "  </thead>\n",
       "  <tbody>\n",
       "    <tr>\n",
       "      <th>1533950662142853121</th>\n",
       "      <td>1.114723</td>\n",
       "      <td>True</td>\n",
       "      <td>True</td>\n",
       "      <td>0</td>\n",
       "      <td>False</td>\n",
       "      <td>122.585256</td>\n",
       "      <td>True</td>\n",
       "      <td>False</td>\n",
       "      <td>False</td>\n",
       "      <td>True</td>\n",
       "      <td>...</td>\n",
       "      <td>True</td>\n",
       "      <td>False</td>\n",
       "      <td>True</td>\n",
       "      <td>False</td>\n",
       "      <td>True</td>\n",
       "      <td>False</td>\n",
       "      <td>False</td>\n",
       "      <td>False</td>\n",
       "      <td>False</td>\n",
       "      <td>False</td>\n",
       "    </tr>\n",
       "    <tr>\n",
       "      <th>1533950662142853122</th>\n",
       "      <td>1.092476</td>\n",
       "      <td>True</td>\n",
       "      <td>True</td>\n",
       "      <td>0</td>\n",
       "      <td>False</td>\n",
       "      <td>122.607274</td>\n",
       "      <td>True</td>\n",
       "      <td>False</td>\n",
       "      <td>False</td>\n",
       "      <td>False</td>\n",
       "      <td>...</td>\n",
       "      <td>True</td>\n",
       "      <td>False</td>\n",
       "      <td>True</td>\n",
       "      <td>False</td>\n",
       "      <td>False</td>\n",
       "      <td>False</td>\n",
       "      <td>False</td>\n",
       "      <td>False</td>\n",
       "      <td>False</td>\n",
       "      <td>False</td>\n",
       "    </tr>\n",
       "    <tr>\n",
       "      <th>1533950662142853123</th>\n",
       "      <td>1.083403</td>\n",
       "      <td>True</td>\n",
       "      <td>True</td>\n",
       "      <td>0</td>\n",
       "      <td>False</td>\n",
       "      <td>122.616231</td>\n",
       "      <td>True</td>\n",
       "      <td>False</td>\n",
       "      <td>False</td>\n",
       "      <td>True</td>\n",
       "      <td>...</td>\n",
       "      <td>False</td>\n",
       "      <td>True</td>\n",
       "      <td>False</td>\n",
       "      <td>False</td>\n",
       "      <td>False</td>\n",
       "      <td>False</td>\n",
       "      <td>False</td>\n",
       "      <td>True</td>\n",
       "      <td>False</td>\n",
       "      <td>True</td>\n",
       "    </tr>\n",
       "    <tr>\n",
       "      <th>1533950662142853124</th>\n",
       "      <td>1.098964</td>\n",
       "      <td>True</td>\n",
       "      <td>True</td>\n",
       "      <td>0</td>\n",
       "      <td>False</td>\n",
       "      <td>122.602018</td>\n",
       "      <td>True</td>\n",
       "      <td>False</td>\n",
       "      <td>False</td>\n",
       "      <td>False</td>\n",
       "      <td>...</td>\n",
       "      <td>True</td>\n",
       "      <td>False</td>\n",
       "      <td>True</td>\n",
       "      <td>False</td>\n",
       "      <td>False</td>\n",
       "      <td>False</td>\n",
       "      <td>False</td>\n",
       "      <td>False</td>\n",
       "      <td>False</td>\n",
       "      <td>False</td>\n",
       "    </tr>\n",
       "    <tr>\n",
       "      <th>1533950662142853125</th>\n",
       "      <td>1.103384</td>\n",
       "      <td>True</td>\n",
       "      <td>True</td>\n",
       "      <td>0</td>\n",
       "      <td>False</td>\n",
       "      <td>122.597953</td>\n",
       "      <td>True</td>\n",
       "      <td>False</td>\n",
       "      <td>False</td>\n",
       "      <td>False</td>\n",
       "      <td>...</td>\n",
       "      <td>True</td>\n",
       "      <td>True</td>\n",
       "      <td>True</td>\n",
       "      <td>False</td>\n",
       "      <td>False</td>\n",
       "      <td>False</td>\n",
       "      <td>False</td>\n",
       "      <td>True</td>\n",
       "      <td>False</td>\n",
       "      <td>True</td>\n",
       "    </tr>\n",
       "    <tr>\n",
       "      <th>...</th>\n",
       "      <td>...</td>\n",
       "      <td>...</td>\n",
       "      <td>...</td>\n",
       "      <td>...</td>\n",
       "      <td>...</td>\n",
       "      <td>...</td>\n",
       "      <td>...</td>\n",
       "      <td>...</td>\n",
       "      <td>...</td>\n",
       "      <td>...</td>\n",
       "      <td>...</td>\n",
       "      <td>...</td>\n",
       "      <td>...</td>\n",
       "      <td>...</td>\n",
       "      <td>...</td>\n",
       "      <td>...</td>\n",
       "      <td>...</td>\n",
       "      <td>...</td>\n",
       "      <td>...</td>\n",
       "      <td>...</td>\n",
       "      <td>...</td>\n",
       "    </tr>\n",
       "    <tr>\n",
       "      <th>1534016632840519781</th>\n",
       "      <td>1.966506</td>\n",
       "      <td>True</td>\n",
       "      <td>False</td>\n",
       "      <td>0</td>\n",
       "      <td>False</td>\n",
       "      <td>122.334704</td>\n",
       "      <td>True</td>\n",
       "      <td>True</td>\n",
       "      <td>False</td>\n",
       "      <td>True</td>\n",
       "      <td>...</td>\n",
       "      <td>True</td>\n",
       "      <td>False</td>\n",
       "      <td>False</td>\n",
       "      <td>False</td>\n",
       "      <td>False</td>\n",
       "      <td>False</td>\n",
       "      <td>False</td>\n",
       "      <td>False</td>\n",
       "      <td>False</td>\n",
       "      <td>False</td>\n",
       "    </tr>\n",
       "    <tr>\n",
       "      <th>1534016632840519782</th>\n",
       "      <td>2.064860</td>\n",
       "      <td>True</td>\n",
       "      <td>False</td>\n",
       "      <td>0</td>\n",
       "      <td>False</td>\n",
       "      <td>122.276713</td>\n",
       "      <td>True</td>\n",
       "      <td>True</td>\n",
       "      <td>False</td>\n",
       "      <td>True</td>\n",
       "      <td>...</td>\n",
       "      <td>True</td>\n",
       "      <td>False</td>\n",
       "      <td>False</td>\n",
       "      <td>False</td>\n",
       "      <td>False</td>\n",
       "      <td>False</td>\n",
       "      <td>False</td>\n",
       "      <td>False</td>\n",
       "      <td>False</td>\n",
       "      <td>False</td>\n",
       "    </tr>\n",
       "    <tr>\n",
       "      <th>1534016632840519885</th>\n",
       "      <td>1.903345</td>\n",
       "      <td>True</td>\n",
       "      <td>False</td>\n",
       "      <td>30380</td>\n",
       "      <td>True</td>\n",
       "      <td>122.371900</td>\n",
       "      <td>True</td>\n",
       "      <td>False</td>\n",
       "      <td>False</td>\n",
       "      <td>False</td>\n",
       "      <td>...</td>\n",
       "      <td>False</td>\n",
       "      <td>False</td>\n",
       "      <td>False</td>\n",
       "      <td>False</td>\n",
       "      <td>False</td>\n",
       "      <td>False</td>\n",
       "      <td>False</td>\n",
       "      <td>False</td>\n",
       "      <td>False</td>\n",
       "      <td>False</td>\n",
       "    </tr>\n",
       "    <tr>\n",
       "      <th>1534016632840519886</th>\n",
       "      <td>1.905922</td>\n",
       "      <td>True</td>\n",
       "      <td>False</td>\n",
       "      <td>30361</td>\n",
       "      <td>True</td>\n",
       "      <td>122.372543</td>\n",
       "      <td>False</td>\n",
       "      <td>False</td>\n",
       "      <td>False</td>\n",
       "      <td>False</td>\n",
       "      <td>...</td>\n",
       "      <td>False</td>\n",
       "      <td>False</td>\n",
       "      <td>False</td>\n",
       "      <td>False</td>\n",
       "      <td>False</td>\n",
       "      <td>False</td>\n",
       "      <td>False</td>\n",
       "      <td>False</td>\n",
       "      <td>False</td>\n",
       "      <td>False</td>\n",
       "    </tr>\n",
       "    <tr>\n",
       "      <th>1534016632840519887</th>\n",
       "      <td>1.910208</td>\n",
       "      <td>True</td>\n",
       "      <td>False</td>\n",
       "      <td>30372</td>\n",
       "      <td>True</td>\n",
       "      <td>122.372172</td>\n",
       "      <td>False</td>\n",
       "      <td>False</td>\n",
       "      <td>False</td>\n",
       "      <td>False</td>\n",
       "      <td>...</td>\n",
       "      <td>True</td>\n",
       "      <td>True</td>\n",
       "      <td>True</td>\n",
       "      <td>False</td>\n",
       "      <td>False</td>\n",
       "      <td>False</td>\n",
       "      <td>False</td>\n",
       "      <td>True</td>\n",
       "      <td>False</td>\n",
       "      <td>True</td>\n",
       "    </tr>\n",
       "  </tbody>\n",
       "</table>\n",
       "<p>19424 rows × 612 columns</p>\n",
       "</div>"
      ],
      "text/plain": [
       "column                    ebv  detect_isTractInner  deblend_incompleteData  \\\n",
       "objectId                                                                     \n",
       "1533950662142853121  1.114723                 True                    True   \n",
       "1533950662142853122  1.092476                 True                    True   \n",
       "1533950662142853123  1.083403                 True                    True   \n",
       "1533950662142853124  1.098964                 True                    True   \n",
       "1533950662142853125  1.103384                 True                    True   \n",
       "...                       ...                  ...                     ...   \n",
       "1534016632840519781  1.966506                 True                   False   \n",
       "1534016632840519782  2.064860                 True                   False   \n",
       "1534016632840519885  1.903345                 True                   False   \n",
       "1534016632840519886  1.905922                 True                   False   \n",
       "1534016632840519887  1.910208                 True                   False   \n",
       "\n",
       "column               deblend_peak_center_x  detect_isDeblendedModelSource  \\\n",
       "objectId                                                                    \n",
       "1533950662142853121                      0                          False   \n",
       "1533950662142853122                      0                          False   \n",
       "1533950662142853123                      0                          False   \n",
       "1533950662142853124                      0                          False   \n",
       "1533950662142853125                      0                          False   \n",
       "...                                    ...                            ...   \n",
       "1534016632840519781                      0                          False   \n",
       "1534016632840519782                      0                          False   \n",
       "1534016632840519885                  30380                           True   \n",
       "1534016632840519886                  30361                           True   \n",
       "1534016632840519887                  30372                           True   \n",
       "\n",
       "column                 coord_ra  detect_isIsolated  merge_peak_sky  \\\n",
       "objectId                                                             \n",
       "1533950662142853121  122.585256               True           False   \n",
       "1533950662142853122  122.607274               True           False   \n",
       "1533950662142853123  122.616231               True           False   \n",
       "1533950662142853124  122.602018               True           False   \n",
       "1533950662142853125  122.597953               True           False   \n",
       "...                         ...                ...             ...   \n",
       "1534016632840519781  122.334704               True            True   \n",
       "1534016632840519782  122.276713               True            True   \n",
       "1534016632840519885  122.371900               True           False   \n",
       "1534016632840519886  122.372543              False           False   \n",
       "1534016632840519887  122.372172              False           False   \n",
       "\n",
       "column               deblend_parentTooBig  xy_flag  ...  r_kronFlux_flag  \\\n",
       "objectId                                            ...                    \n",
       "1533950662142853121                 False     True  ...             True   \n",
       "1533950662142853122                 False    False  ...             True   \n",
       "1533950662142853123                 False     True  ...            False   \n",
       "1533950662142853124                 False    False  ...             True   \n",
       "1533950662142853125                 False    False  ...             True   \n",
       "...                                   ...      ...  ...              ...   \n",
       "1534016632840519781                 False     True  ...             True   \n",
       "1534016632840519782                 False     True  ...             True   \n",
       "1534016632840519885                 False    False  ...            False   \n",
       "1534016632840519886                 False    False  ...            False   \n",
       "1534016632840519887                 False    False  ...             True   \n",
       "\n",
       "column               r_kronFlux_flag_bad_radius  r_kronFlux_flag_bad_shape  \\\n",
       "objectId                                                                     \n",
       "1533950662142853121                       False                       True   \n",
       "1533950662142853122                       False                       True   \n",
       "1533950662142853123                        True                      False   \n",
       "1533950662142853124                       False                       True   \n",
       "1533950662142853125                        True                       True   \n",
       "...                                         ...                        ...   \n",
       "1534016632840519781                       False                      False   \n",
       "1534016632840519782                       False                      False   \n",
       "1534016632840519885                       False                      False   \n",
       "1534016632840519886                       False                      False   \n",
       "1534016632840519887                        True                       True   \n",
       "\n",
       "column               r_kronFlux_flag_bad_shape_no_psf  r_kronFlux_flag_edge  \\\n",
       "objectId                                                                      \n",
       "1533950662142853121                             False                  True   \n",
       "1533950662142853122                             False                 False   \n",
       "1533950662142853123                             False                 False   \n",
       "1533950662142853124                             False                 False   \n",
       "1533950662142853125                             False                 False   \n",
       "...                                               ...                   ...   \n",
       "1534016632840519781                             False                 False   \n",
       "1534016632840519782                             False                 False   \n",
       "1534016632840519885                             False                 False   \n",
       "1534016632840519886                             False                 False   \n",
       "1534016632840519887                             False                 False   \n",
       "\n",
       "column               r_kronFlux_flag_no_fallback_radius  \\\n",
       "objectId                                                  \n",
       "1533950662142853121                               False   \n",
       "1533950662142853122                               False   \n",
       "1533950662142853123                               False   \n",
       "1533950662142853124                               False   \n",
       "1533950662142853125                               False   \n",
       "...                                                 ...   \n",
       "1534016632840519781                               False   \n",
       "1534016632840519782                               False   \n",
       "1534016632840519885                               False   \n",
       "1534016632840519886                               False   \n",
       "1534016632840519887                               False   \n",
       "\n",
       "column               r_kronFlux_flag_no_minimum_radius  \\\n",
       "objectId                                                 \n",
       "1533950662142853121                              False   \n",
       "1533950662142853122                              False   \n",
       "1533950662142853123                              False   \n",
       "1533950662142853124                              False   \n",
       "1533950662142853125                              False   \n",
       "...                                                ...   \n",
       "1534016632840519781                              False   \n",
       "1534016632840519782                              False   \n",
       "1534016632840519885                              False   \n",
       "1534016632840519886                              False   \n",
       "1534016632840519887                              False   \n",
       "\n",
       "column               r_kronFlux_flag_small_radius  \\\n",
       "objectId                                            \n",
       "1533950662142853121                         False   \n",
       "1533950662142853122                         False   \n",
       "1533950662142853123                          True   \n",
       "1533950662142853124                         False   \n",
       "1533950662142853125                          True   \n",
       "...                                           ...   \n",
       "1534016632840519781                         False   \n",
       "1534016632840519782                         False   \n",
       "1534016632840519885                         False   \n",
       "1534016632840519886                         False   \n",
       "1534016632840519887                          True   \n",
       "\n",
       "column               r_kronFlux_flag_used_minimum_radius  \\\n",
       "objectId                                                   \n",
       "1533950662142853121                                False   \n",
       "1533950662142853122                                False   \n",
       "1533950662142853123                                False   \n",
       "1533950662142853124                                False   \n",
       "1533950662142853125                                False   \n",
       "...                                                  ...   \n",
       "1534016632840519781                                False   \n",
       "1534016632840519782                                False   \n",
       "1534016632840519885                                False   \n",
       "1534016632840519886                                False   \n",
       "1534016632840519887                                False   \n",
       "\n",
       "column               r_kronFlux_flag_used_psf_radius  \n",
       "objectId                                              \n",
       "1533950662142853121                            False  \n",
       "1533950662142853122                            False  \n",
       "1533950662142853123                             True  \n",
       "1533950662142853124                            False  \n",
       "1533950662142853125                             True  \n",
       "...                                              ...  \n",
       "1534016632840519781                            False  \n",
       "1534016632840519782                            False  \n",
       "1534016632840519885                            False  \n",
       "1534016632840519886                            False  \n",
       "1534016632840519887                             True  \n",
       "\n",
       "[19424 rows x 612 columns]"
      ]
     },
     "execution_count": 10,
     "metadata": {},
     "output_type": "execute_result"
    }
   ],
   "source": [
    "objectTable = butler.get(refs[5])\n",
    "objectTable"
   ]
  },
  {
   "cell_type": "code",
   "execution_count": 11,
   "id": "ee6fe2b7-3446-4ee9-8f6a-177ea5a9bfcf",
   "metadata": {
    "execution": {
     "iopub.execute_input": "2024-03-24T14:55:17.220544Z",
     "iopub.status.busy": "2024-03-24T14:55:17.220303Z",
     "iopub.status.idle": "2024-03-24T14:55:17.224244Z",
     "shell.execute_reply": "2024-03-24T14:55:17.223845Z",
     "shell.execute_reply.started": "2024-03-24T14:55:17.220532Z"
    },
    "tags": []
   },
   "outputs": [
    {
     "data": {
      "text/plain": [
       "array(['ebv', 'detect_isTractInner', 'deblend_incompleteData',\n",
       "       'deblend_peak_center_x', 'detect_isDeblendedModelSource',\n",
       "       'coord_ra', 'detect_isIsolated', 'merge_peak_sky',\n",
       "       'deblend_parentTooBig', 'xy_flag', 'deblend_failed',\n",
       "       'deblend_nChild', 'coord_raErr', 'shape_flag',\n",
       "       'detect_isDeblendedSource', 'deblend_peak_center_y',\n",
       "       'coord_decErr', 'parentObjectId', 'deblend_skipped',\n",
       "       'deblend_isolatedParent', 'detect_isPatchInner', 'yErr',\n",
       "       'footprintArea', 'deblend_masked', 'shape_yy', 'refBand',\n",
       "       'deblend_iterations', 'detect_fromBlend', 'coord_ra_dec_Cov',\n",
       "       'deblend_nPeaks', 'shape_xx', 'detect_isPrimary',\n",
       "       'refSizeExtendedness', 'sky_object', 'xErr', 'x', 'y', 'refFwhm',\n",
       "       'shape_xy', 'refExtendedness', 'coord_dec', 'deblend_logL',\n",
       "       'deblend_tooManyPeaks', 'tract', 'patch', 'g_ra', 'g_dec',\n",
       "       'g_decl', 'g_raErr', 'g_decErr', 'g_ra_dec_Cov', 'g_psfFlux',\n",
       "       'g_psfFluxErr', 'g_free_psfFlux', 'g_free_psfFluxErr',\n",
       "       'g_free_psfFlux_flag', 'g_bdE1', 'g_bdE2', 'g_bdReB', 'g_bdReD',\n",
       "       'g_bdChi2', 'g_bdFluxB', 'g_bdFluxBErr', 'g_bdFluxD',\n",
       "       'g_bdFluxDErr', 'g_gaapPsfFlux', 'g_gaapPsfFluxErr',\n",
       "       'g_gaap0p7Flux', 'g_gaap0p7FluxErr', 'g_gaap1p0Flux',\n",
       "       'g_gaap1p0FluxErr', 'g_gaap1p5Flux', 'g_gaap1p5FluxErr',\n",
       "       'g_gaap2p5Flux', 'g_gaap2p5FluxErr', 'g_gaap3p0Flux',\n",
       "       'g_gaap3p0FluxErr', 'g_gaapOptimalFlux', 'g_gaapOptimalFluxErr',\n",
       "       'g_ixx', 'g_iyy', 'g_ixy', 'g_i_flag', 'g_ixxPSF', 'g_iyyPSF',\n",
       "       'g_ixyPSF', 'g_iPSF_flag', 'g_ixxRound', 'g_iyyRound',\n",
       "       'g_ixyRound', 'g_iRound_flag', 'g_ixxDebiasedPSF',\n",
       "       'g_iyyDebiasedPSF', 'g_ixyDebiasedPSF', 'g_iDebiasedPSF_flag',\n",
       "       'g_kronRad', 'g_kronFlux', 'g_kronFluxErr', 'g_calibFlux',\n",
       "       'g_calibFluxErr', 'g_ap03Flux', 'g_ap03FluxErr', 'g_ap03Flux_flag',\n",
       "       'g_ap06Flux', 'g_ap06FluxErr', 'g_ap06Flux_flag', 'g_ap09Flux',\n",
       "       'g_ap09FluxErr', 'g_ap09Flux_flag', 'g_ap12Flux', 'g_ap12FluxErr',\n",
       "       'g_ap12Flux_flag', 'g_ap17Flux', 'g_ap17FluxErr',\n",
       "       'g_ap17Flux_flag', 'g_ap25Flux', 'g_ap25FluxErr',\n",
       "       'g_ap25Flux_flag', 'g_ap35Flux', 'g_ap35FluxErr',\n",
       "       'g_ap35Flux_flag', 'g_ap50Flux', 'g_ap50FluxErr',\n",
       "       'g_ap50Flux_flag', 'g_ap70Flux', 'g_ap70FluxErr',\n",
       "       'g_ap70Flux_flag', 'g_extendedness', 'g_sizeExtendedness',\n",
       "       'g_blendedness', 'g_fwhm', 'g_cModelFlux', 'g_cModelFluxErr',\n",
       "       'g_cModelFlux_inner', 'g_free_cModelFlux', 'g_free_cModelFluxErr',\n",
       "       'g_free_cModelFlux_inner', 'g_free_cModelFlux_flag',\n",
       "       'g_hsmShapeRegauss_e1', 'g_hsmShapeRegauss_e2',\n",
       "       'g_hsmShapeRegauss_sigma', 'g_hsmShapeRegauss_flag',\n",
       "       'g_hsm_moments_30', 'g_hsm_momentsPsf_30', 'g_hsm_moments_21',\n",
       "       'g_hsm_momentsPsf_21', 'g_hsm_moments_12', 'g_hsm_momentsPsf_12',\n",
       "       'g_hsm_moments_03', 'g_hsm_momentsPsf_03', 'g_hsm_moments_40',\n",
       "       'g_hsm_momentsPsf_40', 'g_hsm_moments_31', 'g_hsm_momentsPsf_31',\n",
       "       'g_hsm_moments_22', 'g_hsm_momentsPsf_22', 'g_hsm_moments_13',\n",
       "       'g_hsm_momentsPsf_13', 'g_hsm_moments_04', 'g_hsm_momentsPsf_04',\n",
       "       'g_hsm_moments_flag', 'g_hsm_momentsPsf_flag', 'g_inputCount',\n",
       "       'g_deblend_dataCoverage', 'g_deblend_blendedness',\n",
       "       'g_deblend_fluxOverlap', 'g_deblend_fluxOverlapFraction',\n",
       "       'g_inputCount_flag', 'g_inputCount_flag_noInputs',\n",
       "       'g_psfFlux_area', 'g_psfFlux_flag', 'g_psfFlux_flag_apCorr',\n",
       "       'g_psfFlux_flag_edge', 'g_psfFlux_flag_noGoodPixels',\n",
       "       'g_cModel_flag', 'g_cModel_flag_apCorr', 'g_gaapFlux_flag',\n",
       "       'g_gaapFlux_flag_edge', 'g_gaapFlux_flag_gaussianization',\n",
       "       'g_gaapOptimalFlux_flag_bigPsf', 'g_gaap0p7Flux_flag_bigPsf',\n",
       "       'g_gaap1p0Flux_flag_bigPsf', 'g_gaap1p5Flux_flag_bigPsf',\n",
       "       'g_gaap2p5Flux_flag_bigPsf', 'g_gaap3p0Flux_flag_bigPsf',\n",
       "       'g_blendedness_flag', 'g_pixelFlags_bad', 'g_pixelFlags_clipped',\n",
       "       'g_pixelFlags_clippedCenter', 'g_pixelFlags_cr',\n",
       "       'g_pixelFlags_crCenter', 'g_pixelFlags_edge',\n",
       "       'g_pixelFlags_inexact_psf', 'g_pixelFlags_inexact_psfCenter',\n",
       "       'g_pixelFlags_interpolated', 'g_pixelFlags_interpolatedCenter',\n",
       "       'g_pixelFlags_offimage', 'g_pixelFlags_saturated',\n",
       "       'g_pixelFlags_saturatedCenter', 'g_pixelFlags_sensor_edge',\n",
       "       'g_pixelFlags_sensor_edgeCenter', 'g_pixelFlags_suspect',\n",
       "       'g_pixelFlags_suspectCenter', 'g_pixelFlags_streak',\n",
       "       'g_pixelFlags_streakCenter', 'g_extendedness_flag',\n",
       "       'g_sizeExtendedness_flag', 'g_calib_astrometry_used',\n",
       "       'g_calib_photometry_reserved', 'g_calib_photometry_used',\n",
       "       'g_calib_psf_candidate', 'g_calib_psf_reserved',\n",
       "       'g_calib_psf_used', 'g_apFlux_flag',\n",
       "       'g_apFlux_flag_apertureTruncated',\n",
       "       'g_apFlux_flag_sincCoeffsTruncated', 'g_calibFlux_flag',\n",
       "       'g_calibFlux_flag_apertureTruncated',\n",
       "       'g_calibFlux_flag_sincCoeffsTruncated', 'g_centroid_flag',\n",
       "       'g_centroid_x', 'g_centroid_xErr', 'g_centroid_y',\n",
       "       'g_centroid_yErr', 'g_kronFlux_flag', 'g_kronFlux_flag_bad_radius',\n",
       "       'g_kronFlux_flag_bad_shape', 'g_kronFlux_flag_bad_shape_no_psf',\n",
       "       'g_kronFlux_flag_edge', 'g_kronFlux_flag_no_fallback_radius',\n",
       "       'g_kronFlux_flag_no_minimum_radius',\n",
       "       'g_kronFlux_flag_small_radius',\n",
       "       'g_kronFlux_flag_used_minimum_radius',\n",
       "       'g_kronFlux_flag_used_psf_radius', 'i_ra', 'i_dec', 'i_decl',\n",
       "       'i_raErr', 'i_decErr', 'i_ra_dec_Cov', 'i_psfFlux', 'i_psfFluxErr',\n",
       "       'i_free_psfFlux', 'i_free_psfFluxErr', 'i_free_psfFlux_flag',\n",
       "       'i_bdE1', 'i_bdE2', 'i_bdReB', 'i_bdReD', 'i_bdChi2', 'i_bdFluxB',\n",
       "       'i_bdFluxBErr', 'i_bdFluxD', 'i_bdFluxDErr', 'i_gaapPsfFlux',\n",
       "       'i_gaapPsfFluxErr', 'i_gaap0p7Flux', 'i_gaap0p7FluxErr',\n",
       "       'i_gaap1p0Flux', 'i_gaap1p0FluxErr', 'i_gaap1p5Flux',\n",
       "       'i_gaap1p5FluxErr', 'i_gaap2p5Flux', 'i_gaap2p5FluxErr',\n",
       "       'i_gaap3p0Flux', 'i_gaap3p0FluxErr', 'i_gaapOptimalFlux',\n",
       "       'i_gaapOptimalFluxErr', 'i_ixx', 'i_iyy', 'i_ixy', 'i_i_flag',\n",
       "       'i_ixxPSF', 'i_iyyPSF', 'i_ixyPSF', 'i_iPSF_flag', 'i_ixxRound',\n",
       "       'i_iyyRound', 'i_ixyRound', 'i_iRound_flag', 'i_ixxDebiasedPSF',\n",
       "       'i_iyyDebiasedPSF', 'i_ixyDebiasedPSF', 'i_iDebiasedPSF_flag',\n",
       "       'i_kronRad', 'i_kronFlux', 'i_kronFluxErr', 'i_calibFlux',\n",
       "       'i_calibFluxErr', 'i_ap03Flux', 'i_ap03FluxErr', 'i_ap03Flux_flag',\n",
       "       'i_ap06Flux', 'i_ap06FluxErr', 'i_ap06Flux_flag', 'i_ap09Flux',\n",
       "       'i_ap09FluxErr', 'i_ap09Flux_flag', 'i_ap12Flux', 'i_ap12FluxErr',\n",
       "       'i_ap12Flux_flag', 'i_ap17Flux', 'i_ap17FluxErr',\n",
       "       'i_ap17Flux_flag', 'i_ap25Flux', 'i_ap25FluxErr',\n",
       "       'i_ap25Flux_flag', 'i_ap35Flux', 'i_ap35FluxErr',\n",
       "       'i_ap35Flux_flag', 'i_ap50Flux', 'i_ap50FluxErr',\n",
       "       'i_ap50Flux_flag', 'i_ap70Flux', 'i_ap70FluxErr',\n",
       "       'i_ap70Flux_flag', 'i_extendedness', 'i_sizeExtendedness',\n",
       "       'i_blendedness', 'i_fwhm', 'i_cModelFlux', 'i_cModelFluxErr',\n",
       "       'i_cModelFlux_inner', 'i_free_cModelFlux', 'i_free_cModelFluxErr',\n",
       "       'i_free_cModelFlux_inner', 'i_free_cModelFlux_flag',\n",
       "       'i_hsmShapeRegauss_e1', 'i_hsmShapeRegauss_e2',\n",
       "       'i_hsmShapeRegauss_sigma', 'i_hsmShapeRegauss_flag',\n",
       "       'i_hsm_moments_30', 'i_hsm_momentsPsf_30', 'i_hsm_moments_21',\n",
       "       'i_hsm_momentsPsf_21', 'i_hsm_moments_12', 'i_hsm_momentsPsf_12',\n",
       "       'i_hsm_moments_03', 'i_hsm_momentsPsf_03', 'i_hsm_moments_40',\n",
       "       'i_hsm_momentsPsf_40', 'i_hsm_moments_31', 'i_hsm_momentsPsf_31',\n",
       "       'i_hsm_moments_22', 'i_hsm_momentsPsf_22', 'i_hsm_moments_13',\n",
       "       'i_hsm_momentsPsf_13', 'i_hsm_moments_04', 'i_hsm_momentsPsf_04',\n",
       "       'i_hsm_moments_flag', 'i_hsm_momentsPsf_flag', 'i_inputCount',\n",
       "       'i_deblend_dataCoverage', 'i_deblend_blendedness',\n",
       "       'i_deblend_fluxOverlap', 'i_deblend_fluxOverlapFraction',\n",
       "       'i_inputCount_flag', 'i_inputCount_flag_noInputs',\n",
       "       'i_psfFlux_area', 'i_psfFlux_flag', 'i_psfFlux_flag_apCorr',\n",
       "       'i_psfFlux_flag_edge', 'i_psfFlux_flag_noGoodPixels',\n",
       "       'i_cModel_flag', 'i_cModel_flag_apCorr', 'i_gaapFlux_flag',\n",
       "       'i_gaapFlux_flag_edge', 'i_gaapFlux_flag_gaussianization',\n",
       "       'i_gaapOptimalFlux_flag_bigPsf', 'i_gaap0p7Flux_flag_bigPsf',\n",
       "       'i_gaap1p0Flux_flag_bigPsf', 'i_gaap1p5Flux_flag_bigPsf',\n",
       "       'i_gaap2p5Flux_flag_bigPsf', 'i_gaap3p0Flux_flag_bigPsf',\n",
       "       'i_blendedness_flag', 'i_pixelFlags_bad', 'i_pixelFlags_clipped',\n",
       "       'i_pixelFlags_clippedCenter', 'i_pixelFlags_cr',\n",
       "       'i_pixelFlags_crCenter', 'i_pixelFlags_edge',\n",
       "       'i_pixelFlags_inexact_psf', 'i_pixelFlags_inexact_psfCenter',\n",
       "       'i_pixelFlags_interpolated', 'i_pixelFlags_interpolatedCenter',\n",
       "       'i_pixelFlags_offimage', 'i_pixelFlags_saturated',\n",
       "       'i_pixelFlags_saturatedCenter', 'i_pixelFlags_sensor_edge',\n",
       "       'i_pixelFlags_sensor_edgeCenter', 'i_pixelFlags_suspect',\n",
       "       'i_pixelFlags_suspectCenter', 'i_pixelFlags_streak',\n",
       "       'i_pixelFlags_streakCenter', 'i_extendedness_flag',\n",
       "       'i_sizeExtendedness_flag', 'i_calib_astrometry_used',\n",
       "       'i_calib_photometry_reserved', 'i_calib_photometry_used',\n",
       "       'i_calib_psf_candidate', 'i_calib_psf_reserved',\n",
       "       'i_calib_psf_used', 'i_apFlux_flag',\n",
       "       'i_apFlux_flag_apertureTruncated',\n",
       "       'i_apFlux_flag_sincCoeffsTruncated', 'i_calibFlux_flag',\n",
       "       'i_calibFlux_flag_apertureTruncated',\n",
       "       'i_calibFlux_flag_sincCoeffsTruncated', 'i_centroid_flag',\n",
       "       'i_centroid_x', 'i_centroid_xErr', 'i_centroid_y',\n",
       "       'i_centroid_yErr', 'i_kronFlux_flag', 'i_kronFlux_flag_bad_radius',\n",
       "       'i_kronFlux_flag_bad_shape', 'i_kronFlux_flag_bad_shape_no_psf',\n",
       "       'i_kronFlux_flag_edge', 'i_kronFlux_flag_no_fallback_radius',\n",
       "       'i_kronFlux_flag_no_minimum_radius',\n",
       "       'i_kronFlux_flag_small_radius',\n",
       "       'i_kronFlux_flag_used_minimum_radius',\n",
       "       'i_kronFlux_flag_used_psf_radius', 'r_ra', 'r_dec', 'r_decl',\n",
       "       'r_raErr', 'r_decErr', 'r_ra_dec_Cov', 'r_psfFlux', 'r_psfFluxErr',\n",
       "       'r_free_psfFlux', 'r_free_psfFluxErr', 'r_free_psfFlux_flag',\n",
       "       'r_bdE1', 'r_bdE2', 'r_bdReB', 'r_bdReD', 'r_bdChi2', 'r_bdFluxB',\n",
       "       'r_bdFluxBErr', 'r_bdFluxD', 'r_bdFluxDErr', 'r_gaapPsfFlux',\n",
       "       'r_gaapPsfFluxErr', 'r_gaap0p7Flux', 'r_gaap0p7FluxErr',\n",
       "       'r_gaap1p0Flux', 'r_gaap1p0FluxErr', 'r_gaap1p5Flux',\n",
       "       'r_gaap1p5FluxErr', 'r_gaap2p5Flux', 'r_gaap2p5FluxErr',\n",
       "       'r_gaap3p0Flux', 'r_gaap3p0FluxErr', 'r_gaapOptimalFlux',\n",
       "       'r_gaapOptimalFluxErr', 'r_ixx', 'r_iyy', 'r_ixy', 'r_i_flag',\n",
       "       'r_ixxPSF', 'r_iyyPSF', 'r_ixyPSF', 'r_iPSF_flag', 'r_ixxRound',\n",
       "       'r_iyyRound', 'r_ixyRound', 'r_iRound_flag', 'r_ixxDebiasedPSF',\n",
       "       'r_iyyDebiasedPSF', 'r_ixyDebiasedPSF', 'r_iDebiasedPSF_flag',\n",
       "       'r_kronRad', 'r_kronFlux', 'r_kronFluxErr', 'r_calibFlux',\n",
       "       'r_calibFluxErr', 'r_ap03Flux', 'r_ap03FluxErr', 'r_ap03Flux_flag',\n",
       "       'r_ap06Flux', 'r_ap06FluxErr', 'r_ap06Flux_flag', 'r_ap09Flux',\n",
       "       'r_ap09FluxErr', 'r_ap09Flux_flag', 'r_ap12Flux', 'r_ap12FluxErr',\n",
       "       'r_ap12Flux_flag', 'r_ap17Flux', 'r_ap17FluxErr',\n",
       "       'r_ap17Flux_flag', 'r_ap25Flux', 'r_ap25FluxErr',\n",
       "       'r_ap25Flux_flag', 'r_ap35Flux', 'r_ap35FluxErr',\n",
       "       'r_ap35Flux_flag', 'r_ap50Flux', 'r_ap50FluxErr',\n",
       "       'r_ap50Flux_flag', 'r_ap70Flux', 'r_ap70FluxErr',\n",
       "       'r_ap70Flux_flag', 'r_extendedness', 'r_sizeExtendedness',\n",
       "       'r_blendedness', 'r_fwhm', 'r_cModelFlux', 'r_cModelFluxErr',\n",
       "       'r_cModelFlux_inner', 'r_free_cModelFlux', 'r_free_cModelFluxErr',\n",
       "       'r_free_cModelFlux_inner', 'r_free_cModelFlux_flag',\n",
       "       'r_hsmShapeRegauss_e1', 'r_hsmShapeRegauss_e2',\n",
       "       'r_hsmShapeRegauss_sigma', 'r_hsmShapeRegauss_flag',\n",
       "       'r_hsm_moments_30', 'r_hsm_momentsPsf_30', 'r_hsm_moments_21',\n",
       "       'r_hsm_momentsPsf_21', 'r_hsm_moments_12', 'r_hsm_momentsPsf_12',\n",
       "       'r_hsm_moments_03', 'r_hsm_momentsPsf_03', 'r_hsm_moments_40',\n",
       "       'r_hsm_momentsPsf_40', 'r_hsm_moments_31', 'r_hsm_momentsPsf_31',\n",
       "       'r_hsm_moments_22', 'r_hsm_momentsPsf_22', 'r_hsm_moments_13',\n",
       "       'r_hsm_momentsPsf_13', 'r_hsm_moments_04', 'r_hsm_momentsPsf_04',\n",
       "       'r_hsm_moments_flag', 'r_hsm_momentsPsf_flag', 'r_inputCount',\n",
       "       'r_deblend_dataCoverage', 'r_deblend_blendedness',\n",
       "       'r_deblend_fluxOverlap', 'r_deblend_fluxOverlapFraction',\n",
       "       'r_inputCount_flag', 'r_inputCount_flag_noInputs',\n",
       "       'r_psfFlux_area', 'r_psfFlux_flag', 'r_psfFlux_flag_apCorr',\n",
       "       'r_psfFlux_flag_edge', 'r_psfFlux_flag_noGoodPixels',\n",
       "       'r_cModel_flag', 'r_cModel_flag_apCorr', 'r_gaapFlux_flag',\n",
       "       'r_gaapFlux_flag_edge', 'r_gaapFlux_flag_gaussianization',\n",
       "       'r_gaapOptimalFlux_flag_bigPsf', 'r_gaap0p7Flux_flag_bigPsf',\n",
       "       'r_gaap1p0Flux_flag_bigPsf', 'r_gaap1p5Flux_flag_bigPsf',\n",
       "       'r_gaap2p5Flux_flag_bigPsf', 'r_gaap3p0Flux_flag_bigPsf',\n",
       "       'r_blendedness_flag', 'r_pixelFlags_bad', 'r_pixelFlags_clipped',\n",
       "       'r_pixelFlags_clippedCenter', 'r_pixelFlags_cr',\n",
       "       'r_pixelFlags_crCenter', 'r_pixelFlags_edge',\n",
       "       'r_pixelFlags_inexact_psf', 'r_pixelFlags_inexact_psfCenter',\n",
       "       'r_pixelFlags_interpolated', 'r_pixelFlags_interpolatedCenter',\n",
       "       'r_pixelFlags_offimage', 'r_pixelFlags_saturated',\n",
       "       'r_pixelFlags_saturatedCenter', 'r_pixelFlags_sensor_edge',\n",
       "       'r_pixelFlags_sensor_edgeCenter', 'r_pixelFlags_suspect',\n",
       "       'r_pixelFlags_suspectCenter', 'r_pixelFlags_streak',\n",
       "       'r_pixelFlags_streakCenter', 'r_extendedness_flag',\n",
       "       'r_sizeExtendedness_flag', 'r_calib_astrometry_used',\n",
       "       'r_calib_photometry_reserved', 'r_calib_photometry_used',\n",
       "       'r_calib_psf_candidate', 'r_calib_psf_reserved',\n",
       "       'r_calib_psf_used', 'r_apFlux_flag',\n",
       "       'r_apFlux_flag_apertureTruncated',\n",
       "       'r_apFlux_flag_sincCoeffsTruncated', 'r_calibFlux_flag',\n",
       "       'r_calibFlux_flag_apertureTruncated',\n",
       "       'r_calibFlux_flag_sincCoeffsTruncated', 'r_centroid_flag',\n",
       "       'r_centroid_x', 'r_centroid_xErr', 'r_centroid_y',\n",
       "       'r_centroid_yErr', 'r_kronFlux_flag', 'r_kronFlux_flag_bad_radius',\n",
       "       'r_kronFlux_flag_bad_shape', 'r_kronFlux_flag_bad_shape_no_psf',\n",
       "       'r_kronFlux_flag_edge', 'r_kronFlux_flag_no_fallback_radius',\n",
       "       'r_kronFlux_flag_no_minimum_radius',\n",
       "       'r_kronFlux_flag_small_radius',\n",
       "       'r_kronFlux_flag_used_minimum_radius',\n",
       "       'r_kronFlux_flag_used_psf_radius'], dtype=object)"
      ]
     },
     "execution_count": 11,
     "metadata": {},
     "output_type": "execute_result"
    }
   ],
   "source": [
    "objectTable.columns.values"
   ]
  },
  {
   "cell_type": "markdown",
   "id": "cf1ea0e6-2412-4e8e-908c-57a77240e31d",
   "metadata": {
    "execution": {
     "iopub.execute_input": "2023-04-19T04:41:15.719044Z",
     "iopub.status.busy": "2023-04-19T04:41:15.718764Z",
     "iopub.status.idle": "2023-04-19T04:41:15.721677Z",
     "shell.execute_reply": "2023-04-19T04:41:15.721225Z",
     "shell.execute_reply.started": "2023-04-19T04:41:15.719027Z"
    }
   },
   "source": [
    "### Source tables"
   ]
  },
  {
   "cell_type": "code",
   "execution_count": 12,
   "id": "c7df9b9b-8985-4445-b5b3-e29190155a67",
   "metadata": {
    "execution": {
     "iopub.execute_input": "2024-03-24T14:55:17.224944Z",
     "iopub.status.busy": "2024-03-24T14:55:17.224824Z",
     "iopub.status.idle": "2024-03-24T14:55:17.391790Z",
     "shell.execute_reply": "2024-03-24T14:55:17.391411Z",
     "shell.execute_reply.started": "2024-03-24T14:55:17.224932Z"
    },
    "tags": []
   },
   "outputs": [],
   "source": [
    "refs = sorted(registry.queryDatasets(\"sourceTable_visit\"))"
   ]
  },
  {
   "cell_type": "code",
   "execution_count": 13,
   "id": "88711a61-bd88-4fa0-b970-c002f04f19d4",
   "metadata": {
    "execution": {
     "iopub.execute_input": "2024-03-24T14:55:17.392442Z",
     "iopub.status.busy": "2024-03-24T14:55:17.392312Z",
     "iopub.status.idle": "2024-03-24T14:55:17.395550Z",
     "shell.execute_reply": "2024-03-24T14:55:17.395151Z",
     "shell.execute_reply.started": "2024-03-24T14:55:17.392430Z"
    },
    "tags": []
   },
   "outputs": [
    {
     "name": "stdout",
     "output_type": "stream",
     "text": [
      "0 {instrument: 'LATISS', visit: 2023051100262, band: 'r', physical_filter: 'SDSSr_65mm~empty'}\n",
      "1 {instrument: 'LATISS', visit: 2023051100263, band: 'g', physical_filter: 'SDSSg_65mm~empty'}\n",
      "2 {instrument: 'LATISS', visit: 2023051100264, band: 'i', physical_filter: 'SDSSi_65mm~empty'}\n",
      "3 {instrument: 'LATISS', visit: 2023051100268, band: 'r', physical_filter: 'SDSSr_65mm~empty'}\n",
      "4 {instrument: 'LATISS', visit: 2023051100270, band: 'i', physical_filter: 'SDSSi_65mm~empty'}\n",
      "5 {instrument: 'LATISS', visit: 2023051100271, band: 'i', physical_filter: 'SDSSi_65mm~empty'}\n",
      "6 {instrument: 'LATISS', visit: 2023051100272, band: 'g', physical_filter: 'SDSSg_65mm~empty'}\n",
      "7 {instrument: 'LATISS', visit: 2023051100273, band: 'r', physical_filter: 'SDSSr_65mm~empty'}\n",
      "8 {instrument: 'LATISS', visit: 2023051100274, band: 'r', physical_filter: 'SDSSr_65mm~empty'}\n",
      "9 {instrument: 'LATISS', visit: 2023051100275, band: 'g', physical_filter: 'SDSSg_65mm~empty'}\n",
      "10 {instrument: 'LATISS', visit: 2023051100276, band: 'i', physical_filter: 'SDSSi_65mm~empty'}\n",
      "11 {instrument: 'LATISS', visit: 2023051100277, band: 'i', physical_filter: 'SDSSi_65mm~empty'}\n"
     ]
    },
    {
     "name": "stderr",
     "output_type": "stream",
     "text": [
      "/tmp/ipykernel_24332/776994179.py:2: FutureWarning: Call to deprecated function (or staticmethod) full. (DataCoordinate.full is deprecated in favor of .mapping, and will be dropped after v27.) -- Deprecated since version v27.\n",
      "  print(idx,ref.dataId.full)\n"
     ]
    }
   ],
   "source": [
    "for idx,ref in enumerate(refs): \n",
    "    print(idx,ref.dataId.full)\n",
    "    if idx> 10:\n",
    "        break"
   ]
  },
  {
   "cell_type": "code",
   "execution_count": 14,
   "id": "9a8cc15d-a550-4d0f-9e88-80934df213f5",
   "metadata": {
    "execution": {
     "iopub.execute_input": "2024-03-24T14:55:17.396216Z",
     "iopub.status.busy": "2024-03-24T14:55:17.396086Z",
     "iopub.status.idle": "2024-03-24T14:55:17.470145Z",
     "shell.execute_reply": "2024-03-24T14:55:17.469726Z",
     "shell.execute_reply.started": "2024-03-24T14:55:17.396204Z"
    },
    "tags": []
   },
   "outputs": [
    {
     "data": {
      "text/html": [
       "<div>\n",
       "<style scoped>\n",
       "    .dataframe tbody tr th:only-of-type {\n",
       "        vertical-align: middle;\n",
       "    }\n",
       "\n",
       "    .dataframe tbody tr th {\n",
       "        vertical-align: top;\n",
       "    }\n",
       "\n",
       "    .dataframe thead th {\n",
       "        text-align: right;\n",
       "    }\n",
       "</style>\n",
       "<table border=\"1\" class=\"dataframe\">\n",
       "  <thead>\n",
       "    <tr style=\"text-align: right;\">\n",
       "      <th></th>\n",
       "      <th>coord_ra</th>\n",
       "      <th>coord_dec</th>\n",
       "      <th>ccdVisitId</th>\n",
       "      <th>parentSourceId</th>\n",
       "      <th>x</th>\n",
       "      <th>y</th>\n",
       "      <th>xErr</th>\n",
       "      <th>yErr</th>\n",
       "      <th>ra</th>\n",
       "      <th>dec</th>\n",
       "      <th>...</th>\n",
       "      <th>hsmShapeRegauss_flag_galsim</th>\n",
       "      <th>hsmShapeRegauss_flag_no_pixels</th>\n",
       "      <th>hsmShapeRegauss_flag_not_contained</th>\n",
       "      <th>hsmShapeRegauss_flag_parent_source</th>\n",
       "      <th>sky_source</th>\n",
       "      <th>detect_isPrimary</th>\n",
       "      <th>visit</th>\n",
       "      <th>detector</th>\n",
       "      <th>band</th>\n",
       "      <th>physical_filter</th>\n",
       "    </tr>\n",
       "    <tr>\n",
       "      <th>sourceId</th>\n",
       "      <th></th>\n",
       "      <th></th>\n",
       "      <th></th>\n",
       "      <th></th>\n",
       "      <th></th>\n",
       "      <th></th>\n",
       "      <th></th>\n",
       "      <th></th>\n",
       "      <th></th>\n",
       "      <th></th>\n",
       "      <th></th>\n",
       "      <th></th>\n",
       "      <th></th>\n",
       "      <th></th>\n",
       "      <th></th>\n",
       "      <th></th>\n",
       "      <th></th>\n",
       "      <th></th>\n",
       "      <th></th>\n",
       "      <th></th>\n",
       "      <th></th>\n",
       "    </tr>\n",
       "  </thead>\n",
       "  <tbody>\n",
       "    <tr>\n",
       "      <th>180918223816884225</th>\n",
       "      <td>122.544317</td>\n",
       "      <td>-36.218142</td>\n",
       "      <td>43134265856</td>\n",
       "      <td>0</td>\n",
       "      <td>2724.000000</td>\n",
       "      <td>28.000000</td>\n",
       "      <td>NaN</td>\n",
       "      <td>NaN</td>\n",
       "      <td>122.544317</td>\n",
       "      <td>-36.218142</td>\n",
       "      <td>...</td>\n",
       "      <td>False</td>\n",
       "      <td>False</td>\n",
       "      <td>False</td>\n",
       "      <td>False</td>\n",
       "      <td>False</td>\n",
       "      <td>True</td>\n",
       "      <td>2024013000170</td>\n",
       "      <td>0</td>\n",
       "      <td>y</td>\n",
       "      <td>empty~SDSSy_65mm</td>\n",
       "    </tr>\n",
       "    <tr>\n",
       "      <th>180918223816884226</th>\n",
       "      <td>122.566490</td>\n",
       "      <td>-36.217903</td>\n",
       "      <td>43134265856</td>\n",
       "      <td>0</td>\n",
       "      <td>3397.000000</td>\n",
       "      <td>28.000000</td>\n",
       "      <td>NaN</td>\n",
       "      <td>NaN</td>\n",
       "      <td>122.566490</td>\n",
       "      <td>-36.217903</td>\n",
       "      <td>...</td>\n",
       "      <td>False</td>\n",
       "      <td>False</td>\n",
       "      <td>False</td>\n",
       "      <td>False</td>\n",
       "      <td>False</td>\n",
       "      <td>True</td>\n",
       "      <td>2024013000170</td>\n",
       "      <td>0</td>\n",
       "      <td>y</td>\n",
       "      <td>empty~SDSSy_65mm</td>\n",
       "    </tr>\n",
       "    <tr>\n",
       "      <th>180918223816884227</th>\n",
       "      <td>122.455522</td>\n",
       "      <td>-36.218441</td>\n",
       "      <td>43134265856</td>\n",
       "      <td>0</td>\n",
       "      <td>29.161705</td>\n",
       "      <td>51.154515</td>\n",
       "      <td>1.824410</td>\n",
       "      <td>0.507562</td>\n",
       "      <td>122.455522</td>\n",
       "      <td>-36.218441</td>\n",
       "      <td>...</td>\n",
       "      <td>False</td>\n",
       "      <td>False</td>\n",
       "      <td>False</td>\n",
       "      <td>False</td>\n",
       "      <td>False</td>\n",
       "      <td>True</td>\n",
       "      <td>2024013000170</td>\n",
       "      <td>0</td>\n",
       "      <td>y</td>\n",
       "      <td>empty~SDSSy_65mm</td>\n",
       "    </tr>\n",
       "    <tr>\n",
       "      <th>180918223816884228</th>\n",
       "      <td>122.562855</td>\n",
       "      <td>-36.217305</td>\n",
       "      <td>43134265856</td>\n",
       "      <td>0</td>\n",
       "      <td>3287.000000</td>\n",
       "      <td>52.000000</td>\n",
       "      <td>0.611193</td>\n",
       "      <td>2.713681</td>\n",
       "      <td>122.562855</td>\n",
       "      <td>-36.217305</td>\n",
       "      <td>...</td>\n",
       "      <td>False</td>\n",
       "      <td>False</td>\n",
       "      <td>False</td>\n",
       "      <td>False</td>\n",
       "      <td>False</td>\n",
       "      <td>True</td>\n",
       "      <td>2024013000170</td>\n",
       "      <td>0</td>\n",
       "      <td>y</td>\n",
       "      <td>empty~SDSSy_65mm</td>\n",
       "    </tr>\n",
       "    <tr>\n",
       "      <th>180918223816884229</th>\n",
       "      <td>122.530090</td>\n",
       "      <td>-36.216850</td>\n",
       "      <td>43134265856</td>\n",
       "      <td>0</td>\n",
       "      <td>2292.895016</td>\n",
       "      <td>82.262679</td>\n",
       "      <td>0.138312</td>\n",
       "      <td>0.283244</td>\n",
       "      <td>122.530090</td>\n",
       "      <td>-36.216850</td>\n",
       "      <td>...</td>\n",
       "      <td>False</td>\n",
       "      <td>False</td>\n",
       "      <td>False</td>\n",
       "      <td>False</td>\n",
       "      <td>False</td>\n",
       "      <td>True</td>\n",
       "      <td>2024013000170</td>\n",
       "      <td>0</td>\n",
       "      <td>y</td>\n",
       "      <td>empty~SDSSy_65mm</td>\n",
       "    </tr>\n",
       "  </tbody>\n",
       "</table>\n",
       "<p>5 rows × 164 columns</p>\n",
       "</div>"
      ],
      "text/plain": [
       "                      coord_ra  coord_dec   ccdVisitId  parentSourceId  \\\n",
       "sourceId                                                                 \n",
       "180918223816884225  122.544317 -36.218142  43134265856               0   \n",
       "180918223816884226  122.566490 -36.217903  43134265856               0   \n",
       "180918223816884227  122.455522 -36.218441  43134265856               0   \n",
       "180918223816884228  122.562855 -36.217305  43134265856               0   \n",
       "180918223816884229  122.530090 -36.216850  43134265856               0   \n",
       "\n",
       "                              x          y      xErr      yErr          ra  \\\n",
       "sourceId                                                                     \n",
       "180918223816884225  2724.000000  28.000000       NaN       NaN  122.544317   \n",
       "180918223816884226  3397.000000  28.000000       NaN       NaN  122.566490   \n",
       "180918223816884227    29.161705  51.154515  1.824410  0.507562  122.455522   \n",
       "180918223816884228  3287.000000  52.000000  0.611193  2.713681  122.562855   \n",
       "180918223816884229  2292.895016  82.262679  0.138312  0.283244  122.530090   \n",
       "\n",
       "                          dec  ...  hsmShapeRegauss_flag_galsim  \\\n",
       "sourceId                       ...                                \n",
       "180918223816884225 -36.218142  ...                        False   \n",
       "180918223816884226 -36.217903  ...                        False   \n",
       "180918223816884227 -36.218441  ...                        False   \n",
       "180918223816884228 -36.217305  ...                        False   \n",
       "180918223816884229 -36.216850  ...                        False   \n",
       "\n",
       "                    hsmShapeRegauss_flag_no_pixels  \\\n",
       "sourceId                                             \n",
       "180918223816884225                           False   \n",
       "180918223816884226                           False   \n",
       "180918223816884227                           False   \n",
       "180918223816884228                           False   \n",
       "180918223816884229                           False   \n",
       "\n",
       "                    hsmShapeRegauss_flag_not_contained  \\\n",
       "sourceId                                                 \n",
       "180918223816884225                               False   \n",
       "180918223816884226                               False   \n",
       "180918223816884227                               False   \n",
       "180918223816884228                               False   \n",
       "180918223816884229                               False   \n",
       "\n",
       "                    hsmShapeRegauss_flag_parent_source  sky_source  \\\n",
       "sourceId                                                             \n",
       "180918223816884225                               False       False   \n",
       "180918223816884226                               False       False   \n",
       "180918223816884227                               False       False   \n",
       "180918223816884228                               False       False   \n",
       "180918223816884229                               False       False   \n",
       "\n",
       "                    detect_isPrimary          visit  detector  band  \\\n",
       "sourceId                                                              \n",
       "180918223816884225              True  2024013000170         0     y   \n",
       "180918223816884226              True  2024013000170         0     y   \n",
       "180918223816884227              True  2024013000170         0     y   \n",
       "180918223816884228              True  2024013000170         0     y   \n",
       "180918223816884229              True  2024013000170         0     y   \n",
       "\n",
       "                     physical_filter  \n",
       "sourceId                              \n",
       "180918223816884225  empty~SDSSy_65mm  \n",
       "180918223816884226  empty~SDSSy_65mm  \n",
       "180918223816884227  empty~SDSSy_65mm  \n",
       "180918223816884228  empty~SDSSy_65mm  \n",
       "180918223816884229  empty~SDSSy_65mm  \n",
       "\n",
       "[5 rows x 164 columns]"
      ]
     },
     "execution_count": 14,
     "metadata": {},
     "output_type": "execute_result"
    }
   ],
   "source": [
    "sourceTable = butler.get(refs[-1])\n",
    "sourceTable.head()"
   ]
  },
  {
   "cell_type": "code",
   "execution_count": 15,
   "id": "6eec9b9f-ac5a-4b0f-9c7f-449ac4e33bf1",
   "metadata": {
    "execution": {
     "iopub.execute_input": "2024-03-24T14:55:17.470831Z",
     "iopub.status.busy": "2024-03-24T14:55:17.470693Z",
     "iopub.status.idle": "2024-03-24T14:55:17.473657Z",
     "shell.execute_reply": "2024-03-24T14:55:17.473304Z",
     "shell.execute_reply.started": "2024-03-24T14:55:17.470819Z"
    },
    "tags": []
   },
   "outputs": [
    {
     "data": {
      "text/plain": [
       "array(['coord_ra', 'coord_dec', 'ccdVisitId', 'parentSourceId', 'x', 'y',\n",
       "       'xErr', 'yErr', 'ra', 'dec', 'decl', 'raErr', 'decErr',\n",
       "       'ra_dec_Cov', 'calibFlux', 'calibFluxErr', 'ap03Flux',\n",
       "       'ap03FluxErr', 'ap03Flux_flag', 'ap06Flux', 'ap06FluxErr',\n",
       "       'ap06Flux_flag', 'ap09Flux', 'ap09FluxErr', 'ap09Flux_flag',\n",
       "       'ap12Flux', 'ap12FluxErr', 'ap12Flux_flag', 'ap17Flux',\n",
       "       'ap17FluxErr', 'ap17Flux_flag', 'ap25Flux', 'ap25FluxErr',\n",
       "       'ap25Flux_flag', 'ap35Flux', 'ap35FluxErr', 'ap35Flux_flag',\n",
       "       'ap50Flux', 'ap50FluxErr', 'ap50Flux_flag', 'ap70Flux',\n",
       "       'ap70FluxErr', 'ap70Flux_flag', 'sky', 'skyErr', 'psfFlux',\n",
       "       'psfFluxErr', 'ixx', 'iyy', 'ixy', 'ixxPSF', 'iyyPSF', 'ixyPSF',\n",
       "       'ixxDebiasedPSF', 'iyyDebiasedPSF', 'ixyDebiasedPSF',\n",
       "       'gaussianFlux', 'gaussianFluxErr', 'extendedness',\n",
       "       'sizeExtendedness', 'localPhotoCalib', 'localPhotoCalib_flag',\n",
       "       'localPhotoCalibErr', 'localWcs_flag', 'localWcs_CDMatrix_2_1',\n",
       "       'localWcs_CDMatrix_1_1', 'localWcs_CDMatrix_1_2',\n",
       "       'localWcs_CDMatrix_2_2', 'blendedness_abs', 'blendedness_flag',\n",
       "       'blendedness_flag_noCentroid', 'blendedness_flag_noShape',\n",
       "       'apFlux_12_0_flag', 'apFlux_12_0_flag_apertureTruncated',\n",
       "       'apFlux_12_0_flag_sincCoeffsTruncated', 'apFlux_12_0_instFlux',\n",
       "       'apFlux_12_0_instFluxErr', 'apFlux_17_0_flag',\n",
       "       'apFlux_17_0_instFlux', 'apFlux_17_0_instFluxErr',\n",
       "       'apFlux_35_0_flag', 'apFlux_35_0_instFlux',\n",
       "       'apFlux_35_0_instFluxErr', 'apFlux_50_0_flag',\n",
       "       'apFlux_50_0_instFlux', 'apFlux_50_0_instFluxErr',\n",
       "       'extendedness_flag', 'sizeExtendedness_flag',\n",
       "       'footprintArea_value', 'jacobian_flag', 'jacobian_value',\n",
       "       'localBackground_instFlux', 'localBackground_instFluxErr',\n",
       "       'localBackground_flag', 'localBackground_flag_noGoodPixels',\n",
       "       'localBackground_flag_noPsf', 'pixelFlags_bad', 'pixelFlags_cr',\n",
       "       'pixelFlags_crCenter', 'pixelFlags_edge',\n",
       "       'pixelFlags_interpolated', 'pixelFlags_interpolatedCenter',\n",
       "       'pixelFlags_offimage', 'pixelFlags_saturated',\n",
       "       'pixelFlags_saturatedCenter', 'pixelFlags_suspect',\n",
       "       'pixelFlags_suspectCenter', 'pixelFlags_streak',\n",
       "       'pixelFlags_streakCenter', 'psfFlux_apCorr', 'psfFlux_apCorrErr',\n",
       "       'psfFlux_area', 'psfFlux_flag', 'psfFlux_flag_apCorr',\n",
       "       'psfFlux_flag_edge', 'psfFlux_flag_noGoodPixels',\n",
       "       'gaussianFlux_flag', 'centroid_flag',\n",
       "       'centroid_flag_almostNoSecondDerivative', 'centroid_flag_badError',\n",
       "       'centroid_flag_edge', 'centroid_flag_noSecondDerivative',\n",
       "       'centroid_flag_notAtMaximum', 'centroid_flag_resetToPeak',\n",
       "       'variance_flag', 'variance_flag_emptyFootprint', 'variance_value',\n",
       "       'calib_astrometry_used', 'calib_detected',\n",
       "       'calib_photometry_reserved', 'calib_photometry_used',\n",
       "       'calib_psf_candidate', 'calib_psf_reserved', 'calib_psf_used',\n",
       "       'deblend_deblendedAsPsf', 'deblend_hasStrayFlux', 'deblend_masked',\n",
       "       'deblend_nChild', 'deblend_parentTooBig',\n",
       "       'deblend_patchedTemplate', 'deblend_rampedTemplate',\n",
       "       'deblend_skipped', 'deblend_tooManyPeaks', 'hsmPsfMoments_flag',\n",
       "       'hsmPsfMoments_flag_no_pixels', 'hsmPsfMoments_flag_not_contained',\n",
       "       'hsmPsfMoments_flag_parent_source', 'iDebiasedPSF_flag',\n",
       "       'iDebiasedPSF_flag_no_pixels', 'iDebiasedPSF_flag_not_contained',\n",
       "       'iDebiasedPSF_flag_parent_source', 'iDebiasedPSF_flag_galsim',\n",
       "       'iDebiasedPSF_flag_edge', 'hsmShapeRegauss_flag',\n",
       "       'hsmShapeRegauss_flag_galsim', 'hsmShapeRegauss_flag_no_pixels',\n",
       "       'hsmShapeRegauss_flag_not_contained',\n",
       "       'hsmShapeRegauss_flag_parent_source', 'sky_source',\n",
       "       'detect_isPrimary', 'visit', 'detector', 'band', 'physical_filter'],\n",
       "      dtype=object)"
      ]
     },
     "execution_count": 15,
     "metadata": {},
     "output_type": "execute_result"
    }
   ],
   "source": [
    "sourceTable.columns.values"
   ]
  },
  {
   "cell_type": "markdown",
   "id": "3d4e07fc-a438-47b0-aadb-2af33ec3d516",
   "metadata": {
    "tags": []
   },
   "source": [
    "## Run `analysis_tools` interactively\n",
    "\n",
    "Run an `AnalysisTool` interactively in a notebook by passing in-memory data inputs to create metrics and diagnostic plots.\n",
    "\n",
    "In this example, we compute PSF model size residuals relative to the observed PSF size."
   ]
  },
  {
   "cell_type": "code",
   "execution_count": 16,
   "id": "4c8b30ae-d864-42d9-9bb1-4866b7d25d81",
   "metadata": {
    "execution": {
     "iopub.execute_input": "2024-03-24T14:55:17.474266Z",
     "iopub.status.busy": "2024-03-24T14:55:17.474144Z",
     "iopub.status.idle": "2024-03-24T14:55:20.946266Z",
     "shell.execute_reply": "2024-03-24T14:55:20.945810Z",
     "shell.execute_reply.started": "2024-03-24T14:55:17.474254Z"
    },
    "tags": []
   },
   "outputs": [],
   "source": [
    "from lsst.analysis.tools.atools import ShapeSizeFractionalDiff\n",
    "from lsst.analysis.tools.interfaces._task import _StandinPlotInfo\n",
    "from lsst.analysis.tools.interfaces import NoPlot"
   ]
  },
  {
   "cell_type": "code",
   "execution_count": 17,
   "id": "e103cb45-932c-45b7-a39b-b921f12a0da5",
   "metadata": {
    "execution": {
     "iopub.execute_input": "2024-03-24T14:55:20.947312Z",
     "iopub.status.busy": "2024-03-24T14:55:20.946825Z",
     "iopub.status.idle": "2024-03-24T14:55:20.958363Z",
     "shell.execute_reply": "2024-03-24T14:55:20.958004Z",
     "shell.execute_reply.started": "2024-03-24T14:55:20.947299Z"
    },
    "tags": []
   },
   "outputs": [],
   "source": [
    "atool = ShapeSizeFractionalDiff()\n",
    "atool.produce.plot.addSummaryPlot = False\n",
    "\n",
    "# Do not produce plot; only metric values\n",
    "#atool.produce.plot = NoPlot() \n",
    "\n",
    "# Apply the updated configuration\n",
    "atool.finalize()"
   ]
  },
  {
   "cell_type": "markdown",
   "id": "f89e188f-d418-46f4-8bfb-81cc89012662",
   "metadata": {
    "execution": {
     "iopub.execute_input": "2023-05-03T05:46:38.219181Z",
     "iopub.status.busy": "2023-05-03T05:46:38.218965Z",
     "iopub.status.idle": "2023-05-03T05:46:38.222496Z",
     "shell.execute_reply": "2023-05-03T05:46:38.221961Z",
     "shell.execute_reply.started": "2023-05-03T05:46:38.219165Z"
    },
    "tags": []
   },
   "source": [
    "Notice that the returned metric values match summary statistics displayed on the plot"
   ]
  },
  {
   "cell_type": "code",
   "execution_count": null,
   "id": "467a2791-9303-4520-a3f9-18547dff5da2",
   "metadata": {
    "execution": {
     "iopub.execute_input": "2024-03-24T14:55:20.959145Z",
     "iopub.status.busy": "2024-03-24T14:55:20.958877Z"
    },
    "tags": []
   },
   "outputs": [
    {
     "data": {
      "text/plain": [
       "{'ScatterPlotWithTwoHists': <Figure size 1920x1440 with 4 Axes>,\n",
       " 'g_highSNStars_median': Measurement('g_highSNStars_median', <Quantity -0.00113466 pix>, notes={'g_highSNStars_median.metric_tags': []}),\n",
       " 'g_highSNStars_sigmaMad': Measurement('g_highSNStars_sigmaMad', <Quantity 0.00632779 pix>, notes={'g_highSNStars_sigmaMad.metric_tags': []}),\n",
       " 'g_highSNStars_count': Measurement('g_highSNStars_count', <Quantity 39. ct>, notes={'g_highSNStars_count.metric_tags': []}),\n",
       " 'g_lowSNStars_median': Measurement('g_lowSNStars_median', <Quantity -0.00164639 pix>, notes={'g_lowSNStars_median.metric_tags': []}),\n",
       " 'g_lowSNStars_sigmaMad': Measurement('g_lowSNStars_sigmaMad', <Quantity 0.00694808 pix>, notes={'g_lowSNStars_sigmaMad.metric_tags': []}),\n",
       " 'g_lowSNStars_count': Measurement('g_lowSNStars_count', <Quantity 190. ct>, notes={'g_lowSNStars_count.metric_tags': []})}"
      ]
     },
     "execution_count": 18,
     "metadata": {},
     "output_type": "execute_result"
    }
   ],
   "source": [
    "results = atool(objectTable, band='g', skymap=None, plotInfo=_StandinPlotInfo())\n",
    "results"
   ]
  },
  {
   "cell_type": "markdown",
   "id": "1909412c-2c20-4ab4-bd44-d60533313b43",
   "metadata": {
    "execution": {
     "iopub.execute_input": "2023-05-04T01:33:22.746626Z",
     "iopub.status.busy": "2023-05-04T01:33:22.746379Z",
     "iopub.status.idle": "2023-05-04T01:33:22.749197Z",
     "shell.execute_reply": "2023-05-04T01:33:22.748767Z",
     "shell.execute_reply.started": "2023-05-04T01:33:22.746610Z"
    },
    "tags": []
   },
   "source": [
    "## ConfigurableActions are the atomic bits of `analysis_tools`\n",
    "\n",
    "We introduce core concepts of the `analysis_tools` package, starting with the idea of [ConfigurableAction](https://pipelines.lsst.io/v/weekly/modules/lsst.pex.config/overview.html#specialized-config-subclasses)s, or actions for short."
   ]
  },
  {
   "cell_type": "markdown",
   "id": "f0962a7d-4ef8-4764-87bb-14fb4b736d86",
   "metadata": {},
   "source": [
    "### Terminology\n",
    "\n",
    "Data Types (many of the [actions in analysis_tools](https://github.com/lsst/analysis_tools/tree/main/python/lsst/analysis/tools/actions) are grouped according to the resultant data type)\n",
    "* `Scalar`: Something that is number like (int, float, numpy.float32 etc.)\n",
    "* `Vector`: Something that is ndarray like\n",
    "* `KeyedData`: Anything that is indexed by a string that can return a Vector, or Scalar\n",
    "\n",
    "Analysis Structures\n",
    "* `ConfigurableAction`: generic interface for function-like objects (actions) that have state which can be set during configuration\n",
    "* `AnalysisAction`: A ConfigurableAction subclass that is specialized for actions that function in analysis contexts\n",
    "* `AnalysisTool`: A top level \"container\" of multiple AnalysisActions which performs one type of analysis\n",
    "\n",
    "We dive into the later two in more detail below"
   ]
  },
  {
   "cell_type": "markdown",
   "id": "ca962680-ff78-4782-a373-f121c8a97b34",
   "metadata": {},
   "source": [
    "### Using AnalysisActions\n",
    "\n",
    "- Configurable `AnalysisActions` are the atomic bits of `analysis_tools`. They can be combined together to make more complex actions, or used as part of an AnalysisTool\n",
    "- We show some examples of using configurable actions like standalone functions to provide intution for how configurable actions work.\n",
    "- Show examples with KeyedDataActions, VectorActions (including selectors), and ScalarActions\n",
    "- Show examples of configuration"
   ]
  },
  {
   "cell_type": "markdown",
   "id": "e6a8dbc4-be1e-4f1a-92fe-03b289ae361b",
   "metadata": {},
   "source": [
    "Let's use actions to compute the measured PSF size for a set of stars from an object catalog."
   ]
  },
  {
   "cell_type": "code",
   "execution_count": null,
   "id": "d35c8e85-b8b3-4cd1-9d3f-08791afc01e5",
   "metadata": {
    "tags": []
   },
   "outputs": [],
   "source": [
    "from lsst.analysis.tools.actions.vector import CalcMomentSize\n",
    "from lsst.analysis.tools.actions.vector import ConvertFluxToMag"
   ]
  },
  {
   "cell_type": "code",
   "execution_count": null,
   "id": "9bba4288-5612-4add-8c90-6134a814da02",
   "metadata": {
    "tags": []
   },
   "outputs": [],
   "source": [
    "sizeCalculator =  CalcMomentSize()"
   ]
  },
  {
   "cell_type": "code",
   "execution_count": null,
   "id": "df3f4c5a-178e-461c-a123-37c73d3166e5",
   "metadata": {
    "tags": []
   },
   "outputs": [],
   "source": [
    "# Inspect the configuration of this object.\n",
    "pprint(sizeCalculator.toDict())"
   ]
  },
  {
   "cell_type": "code",
   "execution_count": null,
   "id": "529f9254-c983-4c15-889f-e37ae3959d69",
   "metadata": {
    "tags": []
   },
   "outputs": [],
   "source": [
    "# Inspect the required input schema, notice that we will need to provide the band information\n",
    "sizeCalculator.getInputSchema()"
   ]
  },
  {
   "cell_type": "code",
   "execution_count": null,
   "id": "bcac39ad-74a3-4aae-b183-58158569cbb6",
   "metadata": {
    "tags": []
   },
   "outputs": [],
   "source": [
    "size = sizeCalculator(objectTable, band='i')\n",
    "print(size)"
   ]
  },
  {
   "cell_type": "code",
   "execution_count": null,
   "id": "c892f6b3-6ba5-4d2a-8e60-f75a032375c4",
   "metadata": {},
   "outputs": [],
   "source": [
    "magConverter = ConvertFluxToMag()"
   ]
  },
  {
   "cell_type": "code",
   "execution_count": null,
   "id": "6125c59f-9d57-4c76-b5b6-d8690ae4aaf0",
   "metadata": {},
   "outputs": [],
   "source": [
    "pprint(magConverter.toDict())"
   ]
  },
  {
   "cell_type": "code",
   "execution_count": null,
   "id": "c51c2df9-0809-4d09-9cf6-b2761ea6b389",
   "metadata": {},
   "outputs": [],
   "source": [
    "magConverter.getInputSchema()"
   ]
  },
  {
   "cell_type": "markdown",
   "id": "9a2e3e59-105e-4a28-b3d6-648c93b7f079",
   "metadata": {},
   "source": [
    "In the next example, we show how to configure an action"
   ]
  },
  {
   "cell_type": "code",
   "execution_count": null,
   "id": "bdff84ff-50c0-49c4-8031-e4b331bc7204",
   "metadata": {},
   "outputs": [],
   "source": [
    "# Another example, this time to convert fluxes to magnitudes\n",
    "magConverter = ConvertFluxToMag()\n",
    "magConverter.vectorKey='{band}_psfFlux'\n",
    "mag = magConverter(objectTable, band='i')"
   ]
  },
  {
   "cell_type": "code",
   "execution_count": null,
   "id": "4162b9cc-3b9c-404b-94d3-d46ffb443989",
   "metadata": {
    "tags": []
   },
   "outputs": [],
   "source": [
    "# Notice that the lines above is equiavalent to the following\n",
    "magConverterAlternate = ConvertFluxToMag()\n",
    "magConverterAlternate.vectorKey='i_psfFlux'\n",
    "magAlternate = magConverterAlternate(objectTable)\n",
    "\n",
    "# Confirm the results match\n",
    "assert np.allclose(mag, magAlternate, equal_nan=True)"
   ]
  },
  {
   "cell_type": "markdown",
   "id": "45c1ab2a-1c19-4389-99c7-98a3b3ef9c3a",
   "metadata": {},
   "source": [
    "It is also possible set configuration of an action during initialization"
   ]
  },
  {
   "cell_type": "code",
   "execution_count": null,
   "id": "0cdfc76a-ba4f-4ba3-a5fe-73bca0a2b405",
   "metadata": {
    "tags": []
   },
   "outputs": [],
   "source": [
    "magConverterAlternate = ConvertFluxToMag(vectorKey='{band}_psfFlux')\n",
    "\n",
    "assert np.allclose(\n",
    "    magConverter(objectTable, band='i'), \n",
    "    magConverterAlternate(objectTable, band='i'), \n",
    "    equal_nan=True\n",
    ")"
   ]
  },
  {
   "cell_type": "markdown",
   "id": "82f0d329-e27d-40dc-ae70-b070261db8a6",
   "metadata": {},
   "source": [
    "Now make a plot"
   ]
  },
  {
   "cell_type": "code",
   "execution_count": null,
   "id": "6c22da3d-56af-40e8-ae23-26ed4c50cb5b",
   "metadata": {
    "tags": []
   },
   "outputs": [],
   "source": [
    "plt.figure()\n",
    "plt.scatter(mag, size, s=1)\n",
    "plt.xlim(10.5, 22.)\n",
    "plt.ylim(0, 10)\n",
    "plt.xlabel('mag')\n",
    "plt.ylabel('size')"
   ]
  },
  {
   "cell_type": "markdown",
   "id": "3812c7a4-7286-4b79-aa99-78597f71ff48",
   "metadata": {
    "execution": {
     "iopub.execute_input": "2023-05-04T01:38:05.230530Z",
     "iopub.status.busy": "2023-05-04T01:38:05.230271Z",
     "iopub.status.idle": "2023-05-04T01:38:05.233651Z",
     "shell.execute_reply": "2023-05-04T01:38:05.233123Z",
     "shell.execute_reply.started": "2023-05-04T01:38:05.230511Z"
    },
    "tags": []
   },
   "source": [
    "Let's remake that simple plot now selecting only the stars"
   ]
  },
  {
   "cell_type": "code",
   "execution_count": null,
   "id": "d119d2cc-546b-4ef7-a870-ec815ee3e0ab",
   "metadata": {
    "tags": []
   },
   "outputs": [],
   "source": [
    "from lsst.analysis.tools.actions.vector import StarSelector"
   ]
  },
  {
   "cell_type": "code",
   "execution_count": null,
   "id": "56cd84ef-6ef8-45da-b043-c5cc46423091",
   "metadata": {},
   "outputs": [],
   "source": [
    "StarSelector().toDict()"
   ]
  },
  {
   "cell_type": "code",
   "execution_count": null,
   "id": "3858e817-d43f-4d3a-b08c-f98af52a032f",
   "metadata": {},
   "outputs": [],
   "source": [
    "StarSelector().getInputSchema()"
   ]
  },
  {
   "cell_type": "code",
   "execution_count": null,
   "id": "931d898f-3187-4c5f-a51a-1f19c31315bd",
   "metadata": {
    "tags": []
   },
   "outputs": [],
   "source": [
    "starSelection = StarSelector()(objectTable, band='i')"
   ]
  },
  {
   "cell_type": "code",
   "execution_count": null,
   "id": "1a3fb2e0-6ce3-411a-9ba5-8c3646c38693",
   "metadata": {
    "tags": []
   },
   "outputs": [],
   "source": [
    "plt.figure()\n",
    "plt.scatter(mag[starSelection], size.values[starSelection], s=1)\n",
    "plt.xlim(10.0, 22.)\n",
    "plt.ylim(0, 10)\n",
    "plt.xlabel('mag')\n",
    "plt.ylabel('size')"
   ]
  },
  {
   "cell_type": "markdown",
   "id": "486e2060-3d75-4b9f-af13-6938b3e1ce8e",
   "metadata": {},
   "source": [
    "We can chain together `AnalysisAction`s, as in the following example that produces an equivalent plot. The `analysis_tools` package frequently uses this approach of chaining together `AnalysisAction`s."
   ]
  },
  {
   "cell_type": "code",
   "execution_count": null,
   "id": "02935538-6927-4ffb-ac5a-e9d3a186ca60",
   "metadata": {},
   "outputs": [],
   "source": [
    "from lsst.analysis.tools.actions.vector import DownselectVector\n",
    "from lsst.analysis.tools.actions.keyedData import AddComputedVector"
   ]
  },
  {
   "cell_type": "code",
   "execution_count": null,
   "id": "6527c5e5-4423-4b51-ade7-eb72de9def90",
   "metadata": {},
   "outputs": [],
   "source": [
    "DownselectVector().toDict()"
   ]
  },
  {
   "cell_type": "code",
   "execution_count": null,
   "id": "4004fbba-2e6c-4c23-9912-2380a67989e6",
   "metadata": {},
   "outputs": [],
   "source": [
    "DownselectVector().getInputSchema()"
   ]
  },
  {
   "cell_type": "code",
   "execution_count": null,
   "id": "bc1dd9ad-90d4-4ed6-a5b7-375b9d3d6b9a",
   "metadata": {},
   "outputs": [],
   "source": [
    "AddComputedVector().toDict()"
   ]
  },
  {
   "cell_type": "code",
   "execution_count": null,
   "id": "dacc4af2-4545-4037-9e50-a2a472f60776",
   "metadata": {},
   "outputs": [],
   "source": [
    "AddComputedVector().getInputSchema()"
   ]
  },
  {
   "cell_type": "code",
   "execution_count": null,
   "id": "3b1c5fe7-421b-40af-8821-fb85f3d2c018",
   "metadata": {
    "tags": []
   },
   "outputs": [],
   "source": [
    "from lsst.analysis.tools.actions.vector import DownselectVector\n",
    "from lsst.analysis.tools.actions.keyedData import AddComputedVector\n",
    "\n",
    "band = \"i\"\n",
    "\n",
    "# Add a new key that points to a vector of \"size\" values\n",
    "objectTableDemo = AddComputedVector(action=CalcMomentSize, keyName=\"size\")(objectTable, band=band)\n",
    "\n",
    "# Note type(objectTable) is now a python dictionary instead of a pandas table, but since both\n",
    "# \"quack\" like KeyedData they can be used interchangably\n",
    "\n",
    "# Add a new key that points to a vector of \"mag\" values\n",
    "objectTableDemo = AddComputedVector(\n",
    "    action=ConvertFluxToMag(\n",
    "        vectorKey='{band}_psfFlux'\n",
    "    ),\n",
    "    keyName=\"mag\"\n",
    ")(objectTableDemo, band=band)\n",
    "\n",
    "# Example of a more explicit syntax\n",
    "downselector = DownselectVector()\n",
    "downselector.vectorKey = \"size\"\n",
    "downselector.selector = StarSelector\n",
    "size = downselector(objectTableDemo, band=band)\n",
    "\n",
    "# Example of a more compact syntax\n",
    "mag = DownselectVector(vectorKey=\"mag\", selector=StarSelector)(objectTableDemo, band=band)\n",
    "\n",
    "plt.figure()\n",
    "plt.scatter(mag, size, s=1)\n",
    "plt.xlim(10., 22.)\n",
    "plt.ylim(0, 10)\n",
    "plt.xlabel('mag')\n",
    "plt.ylabel('size')"
   ]
  },
  {
   "cell_type": "markdown",
   "id": "e072acd2-7460-4912-8eee-d1adeadbe9e4",
   "metadata": {},
   "source": [
    "### Actions as a generic interface for data\n",
    "Actions are not restricted to tables or products loaded from the butler, `KeyedData` could also be things like dictionaries of numpy arrays."
   ]
  },
  {
   "cell_type": "code",
   "execution_count": null,
   "id": "c1f9865c-9c9e-4e68-9840-e63f4fd5431b",
   "metadata": {
    "tags": []
   },
   "outputs": [],
   "source": [
    "import lsst.analysis.tools.actions\n",
    "dir(lsst.analysis.tools.actions)"
   ]
  },
  {
   "cell_type": "code",
   "execution_count": null,
   "id": "96c7a7b9-86c1-4fe5-94b3-e508aabc6e31",
   "metadata": {
    "tags": []
   },
   "outputs": [],
   "source": [
    "from lsst.analysis.tools.actions.scalar import StdevAction\n",
    "\n",
    "# create some KeyedData\n",
    "data = {\"randomData\": np.random.normal(0, 3, 10000)}\n",
    "\n",
    "# initialize an action, setting it to use the key set above\n",
    "action = StdevAction(vectorKey=\"randomData\")\n",
    "\n",
    "#plt.figure()\n",
    "#plt.hist(data[\"randomData\"], bins=100, density=True)\n",
    "\n",
    "# Run the action and print the results\n",
    "print(f\"The standard deviation is {action(data)}\")"
   ]
  },
  {
   "cell_type": "markdown",
   "id": "02d7771c-1d12-42f5-b439-273fce21683f",
   "metadata": {
    "execution": {
     "iopub.execute_input": "2023-05-04T05:19:13.011552Z",
     "iopub.status.busy": "2023-05-04T05:19:13.010913Z",
     "iopub.status.idle": "2023-05-04T05:19:13.013826Z",
     "shell.execute_reply": "2023-05-04T05:19:13.013369Z",
     "shell.execute_reply.started": "2023-05-04T05:19:13.011530Z"
    },
    "tags": []
   },
   "source": [
    "### Create a new action\n",
    "\n",
    "In the example below, we define a new VectorAction to multiply a vector by a scalar."
   ]
  },
  {
   "cell_type": "code",
   "execution_count": null,
   "id": "f6ee1f7b-e2b3-4c1d-b5c8-a0d409dbeff5",
   "metadata": {
    "tags": []
   },
   "outputs": [],
   "source": [
    "from lsst.analysis.tools.interfaces import VectorAction, KeyedData, KeyedDataSchema, Vector\n",
    "from lsst.pex.config import Field\n",
    "#rom lsstinterfaces import KeyedData, KeyedDataSchema\n",
    "\n",
    "class MultiplyByScalar(VectorAction):\n",
    "    \"\"\"Multiply vector by a scalar value\"\"\"\n",
    "\n",
    "    vectorKey = Field[str](doc=\"Key of vector which should be loaded\")\n",
    "    factor = Field[float](doc=\"Multiplicative factor\", default=1.)\n",
    "\n",
    "    def getInputSchema(self) -> KeyedDataSchema:\n",
    "        return ((self.vectorKey, Vector),)\n",
    "\n",
    "    def __call__(self, data: KeyedData, **kwargs) -> Vector:\n",
    "        return np.array(self.factor * data[self.vectorKey.format(**kwargs)])"
   ]
  },
  {
   "cell_type": "code",
   "execution_count": null,
   "id": "8b822cc7-8e40-4538-be49-84078187fbe0",
   "metadata": {
    "tags": []
   },
   "outputs": [],
   "source": [
    "action = MultiplyByScalar(vectorKey=\"randomData\", factor=2.)\n",
    "results = action(data)\n",
    "assert np.allclose(results, 2. * data['randomData'])"
   ]
  },
  {
   "cell_type": "markdown",
   "id": "166efc57-922d-41bf-a219-398717d1f576",
   "metadata": {},
   "source": [
    "### Three conceptual steps in an `AnalysisTool`: prep, process, produce\n",
    "\n",
    "As mentioned AnalysisTools can be thought of as executable containers of AnalysisActions. There are three different AnalysisActions, referred to as stages, named prep, process, and produce.\n",
    "* Prep: Responsible for any initial selection and filtering of data\n",
    "* Process: This is where any transformations and/or calculations are made\n",
    "* Produce: Generates final plot and/or metric objects\n",
    "\n",
    "The following examples will:\n",
    "* Walk through the three stages of running an analysis tool in sequential lines of code, passing the output of one step as input to the next step\n",
    "* Examine intermediate results"
   ]
  },
  {
   "cell_type": "code",
   "execution_count": null,
   "id": "0de63587-5da9-4263-975d-13d29597f963",
   "metadata": {
    "tags": []
   },
   "outputs": [],
   "source": [
    "prepResults = atool.prep(objectTable, band='i')\n",
    "processResults = atool.process(prepResults, band='i')\n",
    "produceResults = atool.produce(processResults, band='i', skymap=None, plotInfo=_StandinPlotInfo())"
   ]
  },
  {
   "cell_type": "markdown",
   "id": "40c20ca1-0cdd-478a-82de-e62d6784ed5e",
   "metadata": {},
   "source": [
    "Inspect the intermediate results"
   ]
  },
  {
   "cell_type": "code",
   "execution_count": null,
   "id": "a58b7c8c-43db-4950-9f3d-92e57fdaddc3",
   "metadata": {
    "tags": []
   },
   "outputs": [],
   "source": [
    "#prepResults"
   ]
  },
  {
   "cell_type": "code",
   "execution_count": null,
   "id": "1d1f8767-927b-480e-a53f-c27de41d8949",
   "metadata": {
    "tags": []
   },
   "outputs": [],
   "source": [
    "#processResults"
   ]
  },
  {
   "cell_type": "markdown",
   "id": "aa126f70-ba67-4d41-a86f-2534f66be0bf",
   "metadata": {
    "execution": {
     "iopub.execute_input": "2023-05-04T01:51:31.319631Z",
     "iopub.status.busy": "2023-05-04T01:51:31.319043Z",
     "iopub.status.idle": "2023-05-04T01:51:31.321813Z",
     "shell.execute_reply": "2023-05-04T01:51:31.321442Z",
     "shell.execute_reply.started": "2023-05-04T01:51:31.319614Z"
    },
    "tags": []
   },
   "source": [
    "## Workflow examples"
   ]
  },
  {
   "cell_type": "markdown",
   "id": "f7c90e82-a6e3-4948-9deb-c22e9f17a8a2",
   "metadata": {},
   "source": [
    "### Running analysis_tools as part of a pipeline\n",
    "\n",
    "* **All examples in this notebook should use the simple pipeline executor** (here is how you do it in a notebook)\n",
    "* We have a PipelineTask for each data product. A task can run multiple AnalysisTools that each produce a set of plots or set of metrics and are subclasses of AnalysisPipelineTask.\n",
    "* Discuss an example yaml pipeline file (load the yaml)\n",
    "* Provide the command to run the pipeline\n",
    "* Show how to configure the pipeline, e.g., turning on or off different metrics and plots or changing other parameters"
   ]
  },
  {
   "cell_type": "markdown",
   "id": "034775fb-763c-4c19-a414-8bbbff46167d",
   "metadata": {},
   "source": [
    "**WARNING:** If you are using your own processed instance of rc_subset, run the following cells to run analysis_tools as part of a pipeline from the notebook. If you are pointing to a shared sandbox instance of rc2_subset, skip the remaining cells in this section."
   ]
  },
  {
   "cell_type": "code",
   "execution_count": null,
   "id": "f8e697f5-7b3f-4d2e-a160-6fb065823ba3",
   "metadata": {
    "tags": []
   },
   "outputs": [],
   "source": [
    "from lsst.ctrl.mpexec import SimplePipelineExecutor\n",
    "from lsst.pipe.base import Pipeline\n",
    "\n",
    "# set up an output collection with your username\n",
    "analysisToolsCollection = \"u/%s/analysisToolsExampleAuxtel\"%os.environ['USER']\n",
    "print(analysisToolsCollection)\n",
    "\n",
    "# this can be skipped if you already have a read writable butler setup (above is read only)\n",
    "#butlerRW = SimplePipelineExecutor.prep_butler(repo, inputs=collections, output=analysisToolsCollection)\n",
    "butlerRW = butler\n",
    "# load in the pipeline to run\n",
    "pipeline = Pipeline.from_uri(\"$ANALYSIS_TOOLS_DIR/pipelines/coaddQualityCore.yaml\")\n",
    "\n",
    "# override a configuration within a certain AnalysisTool\n",
    "configKey = \"atools.shapeSizeFractionalDiff.prep.selectors.snSelector.threshold\"\n",
    "pipeline.addConfigOverride(\"analyzeObjectTableCore\", configKey, 400)\n",
    "\n",
    "# Run only the PSF size residual tool\n",
    "pipeline.addConfigOverride(\"analyzeObjectTableCore\", \"atools\", None)\n",
    "pipeline.addConfigOverride(\"analyzeObjectTableCore\", \"atools.shapeSizeFractionalDiff\", ShapeSizeFractionalDiff)\n",
    "\n",
    "# bands = ['g', 'r', 'z', 'y']\n",
    "bands = ['i']\n",
    "pipeline.addConfigOverride(\"analyzeObjectTableCore\", \"bands\", bands)\n",
    "pipeline.addConfigOverride(\"catalogMatchTract\", \"bands\", bands)\n",
    "pipeline.addConfigOverride(\"refCatObjectTract\", \"bands\", bands)\n",
    "\n",
    "# restrict processing to the same dataId used above\n",
    "whereString = \"tract = 3864 AND skymap = 'latiss_v1'\""
   ]
  },
  {
   "cell_type": "markdown",
   "id": "82652abd-f938-4a98-8f67-0eebe77324a6",
   "metadata": {},
   "source": [
    "Display the pipeline that is about to be run"
   ]
  },
  {
   "cell_type": "code",
   "execution_count": null,
   "id": "0044cb7f-df8d-4c3f-8261-df46178f912e",
   "metadata": {
    "tags": []
   },
   "outputs": [],
   "source": [
    "print(pipeline)"
   ]
  },
  {
   "cell_type": "markdown",
   "id": "b0d1d728-22f2-41b4-9cc2-829daee86a2f",
   "metadata": {},
   "source": [
    "# NOT WORKING FR0M THERE"
   ]
  },
  {
   "cell_type": "code",
   "execution_count": null,
   "id": "d65aa110-38a8-4c41-9386-14222517a2ba",
   "metadata": {
    "tags": []
   },
   "outputs": [],
   "source": [
    "#assert False\n",
    "# Prevent the executor from dumping plots into the notebook\n",
    "backend_ =  mpl.get_backend() \n",
    "mpl.use(\"Agg\")\n",
    "\n",
    "executor = SimplePipelineExecutor.from_pipeline(pipeline, where=whereString, butler=butlerRW)\n",
    "quanta = executor.run(True)\n",
    "\n",
    "# Restore the ability for plots to be put into the notebook\n",
    "mpl.use(backend_)"
   ]
  },
  {
   "cell_type": "code",
   "execution_count": null,
   "id": "0d9009ec-38b0-4c67-954b-899974fd32f1",
   "metadata": {
    "tags": []
   },
   "outputs": [],
   "source": [
    "\n",
    "# Refresh our read-only butler to see the changes made. (It's generally a\n",
    "# good idea to work on read-only things)\n",
    "butler.registry.refresh()"
   ]
  },
  {
   "cell_type": "markdown",
   "id": "ffb24d5d-13f9-4c37-9f75-969b49eef233",
   "metadata": {},
   "source": [
    "## Access persisted metrics"
   ]
  },
  {
   "cell_type": "markdown",
   "id": "aeb1f09c-165b-41fa-8544-a2aaa44d5b6f",
   "metadata": {},
   "source": [
    "Specify the collection that holds the results of running analysis_tools. If you are pointing to your own instance of rc2_subset, you did this already above prior to running the pipeline and the cell below is not needed."
   ]
  },
  {
   "cell_type": "code",
   "execution_count": null,
   "id": "4ac51e0e-2ea4-48ea-881d-76f5bd5fbdc7",
   "metadata": {
    "tags": []
   },
   "outputs": [],
   "source": [
    "\n",
    "analysisToolsCollection = \"u/dagoret/analysisToolsExample\""
   ]
  },
  {
   "cell_type": "markdown",
   "id": "c474ece0-6b8b-4e8c-989e-db23e23c8827",
   "metadata": {},
   "source": [
    "Check what dataset types exist in the new collection."
   ]
  },
  {
   "cell_type": "code",
   "execution_count": null,
   "id": "718585b6-757e-4de5-a3e1-ebfdc16e8164",
   "metadata": {
    "tags": []
   },
   "outputs": [],
   "source": [
    "# See what datasets exist; there should now be objectTableCore_metrics\n",
    "for datasetType in registry.queryDatasetTypes():\n",
    "    if registry.queryDatasets(datasetType, collections=analysisToolsCollection).any(execute=False, exact=False):\n",
    "        print(datasetType)"
   ]
  },
  {
   "cell_type": "markdown",
   "id": "24e88923-cc4f-4cfc-93ea-7f89f5620236",
   "metadata": {},
   "source": [
    "Access the persisted metrics."
   ]
  },
  {
   "cell_type": "code",
   "execution_count": null,
   "id": "0a790bf8-a35b-44b0-8fa8-8640cc434506",
   "metadata": {
    "tags": []
   },
   "outputs": [],
   "source": [
    "# Get the metric that was written\n",
    "print(analysisToolsCollection)\n",
    "refs = sorted(butler.registry.queryDatasets(\"objectTableCore_metrics\", collections=analysisToolsCollection))\n",
    "pprint(refs)\n",
    "dataId = refs[-1].dataId\n",
    "print(dataId)\n",
    "print(refs[-1].run)\n",
    "objectTable_metrics = butler.get(\"objectTableCore_metrics\", dataId=dataId, collections=analysisToolsCollection)\n",
    "pprint(objectTable_metrics)"
   ]
  },
  {
   "cell_type": "markdown",
   "id": "1373184e-244f-4be7-ace0-9bee74833895",
   "metadata": {},
   "source": [
    "Also, we can see that a plot has been persisted, but there isn't a way to visualize the plot from the notebook. In the next section, we'll use the `reconstructor` to recreate the plot in the notebook."
   ]
  },
  {
   "cell_type": "code",
   "execution_count": null,
   "id": "67690e31-e5d6-4013-944e-21c5a93e7b93",
   "metadata": {
    "tags": []
   },
   "outputs": [],
   "source": [
    "refs = sorted(butler.registry.queryDatasets(\n",
    "    \"objectTableCore_i_shapeSizeFractionalDiff_ScatterPlotWithTwoHists\", \n",
    "    collections=analysisToolsCollection)\n",
    ")\n",
    "print(refs[0])\n",
    "\n",
    "# The following line will throw an error\n",
    "# plot = butler.get(\n",
    "#     \"objectTableCore_i_shapeSizeFractionalDiff_ScatterPlotWithTwoHists\",\n",
    "#     dataId=refs[0].dataId,\n",
    "#     collections=analysisToolsCollection\n",
    "# )"
   ]
  },
  {
   "cell_type": "markdown",
   "id": "b1c00f34-bef0-4f9b-be9a-b5d82974674f",
   "metadata": {},
   "source": [
    "### Reconstruct the inputs to an `AnalysisTool`\n",
    "\n",
    "Analysis(Tools/Actions) allow the exact state of `AnalysisTool`s to be saved into the Butler when a pipeline is run. This allows a user to 'reconstruct' things as they were when the tools were executed. This aids in debugging and deep diving into the data.\n",
    "\n",
    "Below is an example of reconstructing one of the tasks that was run in the Pipeline above."
   ]
  },
  {
   "cell_type": "code",
   "execution_count": null,
   "id": "1569bb6f-6dd7-4619-969a-1d4f9dd0bd3e",
   "metadata": {
    "tags": []
   },
   "outputs": [],
   "source": [
    "from lsst.analysis.tools.tasks.reconstructor import reconstructAnalysisTools\n",
    "\n",
    "# Read in just one task\n",
    "label = \"analyzeObjectTableCore\"\n",
    "taskState, inputData = reconstructAnalysisTools(butler, \n",
    "                                                collection=analysisToolsCollection, \n",
    "                                                label=label, \n",
    "                                                dataId=dataId, \n",
    "                                                callback=None\n",
    ")"
   ]
  },
  {
   "cell_type": "markdown",
   "id": "f03c96a9-d8a7-4a04-9461-8160779c3692",
   "metadata": {},
   "source": [
    "We have access to the exact configuration that was used to run the analysis tools."
   ]
  },
  {
   "cell_type": "code",
   "execution_count": null,
   "id": "ccc4d194-e979-4f5e-a7e7-7709c4b9a56c",
   "metadata": {
    "tags": []
   },
   "outputs": [],
   "source": [
    "pprint(taskState.toDict())"
   ]
  },
  {
   "cell_type": "markdown",
   "id": "fba7df8d-39a6-4eb8-8658-bc62ea8e3b63",
   "metadata": {},
   "source": [
    "We also have access to the input data that were used to produce the diagnostics, in this case, the object table."
   ]
  },
  {
   "cell_type": "code",
   "execution_count": null,
   "id": "2912a99c-b963-499c-a413-0dca8c869290",
   "metadata": {
    "tags": []
   },
   "outputs": [],
   "source": [
    "inputData[\"data\"]"
   ]
  },
  {
   "cell_type": "markdown",
   "id": "b8598951-1c6c-4773-aab9-dddafbe1561b",
   "metadata": {},
   "source": [
    "Quick check to verify that the object table data are indeed the same."
   ]
  },
  {
   "cell_type": "code",
   "execution_count": null,
   "id": "c8c838cb-ca4e-4603-af90-3af2b5527774",
   "metadata": {
    "tags": []
   },
   "outputs": [],
   "source": [
    "assert np.allclose(inputData[\"data\"]['coord_ra'], objectTable['coord_ra'])"
   ]
  },
  {
   "cell_type": "markdown",
   "id": "e908a5e2-b9c8-4e48-b069-54ff1ecaac26",
   "metadata": {},
   "source": [
    "We can now reproduce diagnostic metrics and plots interactively in the notebook"
   ]
  },
  {
   "cell_type": "code",
   "execution_count": null,
   "id": "f6877c94-35a8-433e-b3b8-c51d48ad0f30",
   "metadata": {
    "tags": []
   },
   "outputs": [],
   "source": [
    "# The following configuration won't be needed in the future\n",
    "taskState.atools.shapeSizeFractionalDiff.produce.plot.addSummaryPlot = False\n",
    "\n",
    "taskState.atools.shapeSizeFractionalDiff(\n",
    "    inputData['data'],\n",
    "    band='i',\n",
    "    skymap=None,\n",
    "    plotInfo=_StandinPlotInfo()\n",
    ")"
   ]
  },
  {
   "cell_type": "markdown",
   "id": "52b0701d-8753-45dc-a786-5986cb834c82",
   "metadata": {},
   "source": [
    "Next, we change one of the configuration parameters to see how the results change. \n",
    "\n",
    "In this example, we raise the signal-to-noise threshold to 200. Notice that the metric values and plot change with this updated object selection criteria."
   ]
  },
  {
   "cell_type": "code",
   "execution_count": null,
   "id": "a9ec74c4-429c-4d76-8b16-7859b283a8a3",
   "metadata": {
    "tags": []
   },
   "outputs": [],
   "source": [
    "# change some configuration to see the differences\n",
    "taskState.atools.shapeSizeFractionalDiff.prep.selectors.snSelector.threshold = 200\n",
    "taskState.atools.shapeSizeFractionalDiff(\n",
    "    inputData['data'],\n",
    "    band='i',\n",
    "    skymap=None,\n",
    "    plotInfo=_StandinPlotInfo()\n",
    ")"
   ]
  },
  {
   "cell_type": "markdown",
   "id": "8a40cf10-9df9-472d-b656-fd99dba20c4a",
   "metadata": {},
   "source": [
    "As before, we can also step through the calculation to check intermediate steps."
   ]
  },
  {
   "cell_type": "code",
   "execution_count": null,
   "id": "687feae9-6996-449d-b7a7-b12ba71d2791",
   "metadata": {
    "tags": []
   },
   "outputs": [],
   "source": [
    "prepResults = taskState.atools.shapeSizeFractionalDiff.prep(objectTable, band='i')\n",
    "processResults = taskState.atools.shapeSizeFractionalDiff.process(prepResults, band='i')\n",
    "produceResults = taskState.atools.shapeSizeFractionalDiff.produce(processResults, band='i', skymap=None, plotInfo=_StandinPlotInfo())"
   ]
  },
  {
   "cell_type": "markdown",
   "id": "7a5a688a-bb97-4ac3-87b1-a69ed2d5371f",
   "metadata": {},
   "source": [
    "## Create a new analysis tool\n",
    "\n",
    "Example `AnalysisTool`s can be found in the [atools](https://github.com/lsst/analysis_tools/tree/main/python/lsst/analysis/tools/atools) directory of the package.\n",
    "\n",
    "Now let's create our own `AnalysisTool`"
   ]
  },
  {
   "cell_type": "code",
   "execution_count": null,
   "id": "52a4ea7c-cc92-425f-89de-f85b9847c42a",
   "metadata": {
    "tags": []
   },
   "outputs": [],
   "source": [
    "from lsst.analysis.tools.interfaces import AnalysisTool\n",
    "from lsst.analysis.tools.actions.scalar import MedianAction, CountAction\n",
    "from lsst.analysis.tools.actions.vector import SnSelector\n",
    "\n",
    "\n",
    "class DemoTool(AnalysisTool):\n",
    "    #parameterizedBand: bool = False\n",
    "    \n",
    "    def setDefaults(self):\n",
    "        super().setDefaults()\n",
    "        \n",
    "        # select on high signal to noise obejcts\n",
    "        # add in a signal to noise selector\n",
    "        self.prep.selectors.snSelector = SnSelector()\n",
    "        \n",
    "        # set what key the selector should use when deciding SNR\n",
    "        self.prep.selectors.snSelector.fluxType = \"psfFlux\"\n",
    "        \n",
    "        # select what threshold value is desireable for the selector\n",
    "        self.prep.selectors.snSelector.threshold = 10\n",
    "        \n",
    "        # the final name in the qualification is used as a key to insert\n",
    "        # the calculation into KeyedData\n",
    "        self.process.calculateActions.median = MedianAction()\n",
    "        self.process.calculateActions.median.vectorKey = \"psfFlux\"\n",
    "        self.process.calculateActions.count = CountAction()\n",
    "        self.process.calculateActions.count.vectorKey = \"psfFlux\"\n",
    "        \n",
    "        # tell the metic what the units are for the quantity\n",
    "        self.produce.metric.units = {\"median\": \"Jy\",\n",
    "                                     \"count\": \"count\"}\n",
    "        \n",
    "        # Rename the quanity prior to producing the Metric\n",
    "        # (useful for resuable workflows that set a name toward the end of computation)\n",
    "        # self.produce.metric.newNames = {\"medianValueName\": \"DemoMetric\"}"
   ]
  },
  {
   "cell_type": "markdown",
   "id": "cfc314fb-6312-49c5-b34e-de2641e0d109",
   "metadata": {},
   "source": [
    "Examine the configuration of our new tool"
   ]
  },
  {
   "cell_type": "code",
   "execution_count": null,
   "id": "b6ea7b18-81fe-4427-8f0f-813b8be89256",
   "metadata": {
    "tags": []
   },
   "outputs": [],
   "source": [
    "DemoTool().toDict()"
   ]
  },
  {
   "cell_type": "markdown",
   "id": "72bd6355-e71c-4548-82da-6a68d72a91a9",
   "metadata": {},
   "source": [
    "Make some synthetic data"
   ]
  },
  {
   "cell_type": "code",
   "execution_count": null,
   "id": "eea5ed3d-860c-4670-b509-241d20fc5b43",
   "metadata": {
    "tags": []
   },
   "outputs": [],
   "source": [
    "# Make some synthetic data\n",
    "size = 500\n",
    "flux = np.logspace(1., 4., size)\n",
    "fluxErr = np.sqrt(flux)\n",
    "flux += np.random.normal(0, np.sqrt(flux), size)\n",
    "data = {\"psfFlux\": flux, \"psfFluxErr\": fluxErr}\n",
    "\n",
    "plt.figure()\n",
    "plt.xscale('log')\n",
    "plt.yscale('log')\n",
    "plt.scatter(data['psfFlux'], data['psfFluxErr'])\n",
    "plt.xlabel('psfFlux')\n",
    "plt.ylabel('psfFluxErr')"
   ]
  },
  {
   "cell_type": "markdown",
   "id": "78795035-d65b-4349-8311-95ca916f9479",
   "metadata": {},
   "source": [
    "Run the new analysis tool."
   ]
  },
  {
   "cell_type": "code",
   "execution_count": null,
   "id": "2afd643a-97b2-4e46-9b8f-4ba74e3c82a0",
   "metadata": {
    "tags": []
   },
   "outputs": [],
   "source": [
    "demoTool = DemoTool()\n",
    "demoTool.populatePrepFromProcess()\n",
    "\n",
    "# We can configure as needed\n",
    "demoTool.prep.selectors.snSelector.threshold = 50\n",
    "\n",
    "demoTool(data)"
   ]
  },
  {
   "cell_type": "markdown",
   "id": "a570e5ab-f6cb-4622-b40f-a5404b70ddc6",
   "metadata": {},
   "source": [
    "We can inspect intermediate stages of the analysis."
   ]
  },
  {
   "cell_type": "code",
   "execution_count": null,
   "id": "d76aea13-d00b-4da9-8ee0-73848cc39d4e",
   "metadata": {
    "tags": []
   },
   "outputs": [],
   "source": [
    "# Example: how many of the data points pass the SNR threshold?\n",
    "len(demoTool.prep(data)['psfFlux'])"
   ]
  },
  {
   "cell_type": "code",
   "execution_count": null,
   "id": "7e4b5ed1-20ae-4a34-af96-7fdb27811764",
   "metadata": {},
   "outputs": [],
   "source": []
  }
 ],
 "metadata": {
  "kernelspec": {
   "display_name": "LSST",
   "language": "python",
   "name": "lsst"
  },
  "language_info": {
   "codemirror_mode": {
    "name": "ipython",
    "version": 3
   },
   "file_extension": ".py",
   "mimetype": "text/x-python",
   "name": "python",
   "nbconvert_exporter": "python",
   "pygments_lexer": "ipython3",
   "version": "3.11.7"
  }
 },
 "nbformat": 4,
 "nbformat_minor": 5
}
